{
  "nbformat": 4,
  "nbformat_minor": 0,
  "metadata": {
    "colab": {
      "name": "08_homework_Akimov.ipynb",
      "provenance": []
    },
    "kernelspec": {
      "display_name": "Python 3",
      "language": "python",
      "name": "python3"
    },
    "language_info": {
      "codemirror_mode": {
        "name": "ipython",
        "version": 3
      },
      "file_extension": ".py",
      "mimetype": "text/x-python",
      "name": "python",
      "nbconvert_exporter": "python",
      "pygments_lexer": "ipython3",
      "version": "3.8.5"
    },
    "widgets": {
      "application/vnd.jupyter.widget-state+json": {
        "70fd29db425f4a788e58aa2049e7ce24": {
          "model_module": "@jupyter-widgets/controls",
          "model_name": "HBoxModel",
          "state": {
            "_view_name": "HBoxView",
            "_dom_classes": [],
            "_model_name": "HBoxModel",
            "_view_module": "@jupyter-widgets/controls",
            "_model_module_version": "1.5.0",
            "_view_count": null,
            "_view_module_version": "1.5.0",
            "box_style": "",
            "layout": "IPY_MODEL_fdc76fe7886a4cd499ba541869d8efa2",
            "_model_module": "@jupyter-widgets/controls",
            "children": [
              "IPY_MODEL_f0310240d5cd445ca65ddf175faba762",
              "IPY_MODEL_30ed66726bf44753b92414c5d5d04024"
            ]
          }
        },
        "fdc76fe7886a4cd499ba541869d8efa2": {
          "model_module": "@jupyter-widgets/base",
          "model_name": "LayoutModel",
          "state": {
            "_view_name": "LayoutView",
            "grid_template_rows": null,
            "right": null,
            "justify_content": null,
            "_view_module": "@jupyter-widgets/base",
            "overflow": null,
            "_model_module_version": "1.2.0",
            "_view_count": null,
            "flex_flow": null,
            "width": null,
            "min_width": null,
            "border": null,
            "align_items": null,
            "bottom": null,
            "_model_module": "@jupyter-widgets/base",
            "top": null,
            "grid_column": null,
            "overflow_y": null,
            "overflow_x": null,
            "grid_auto_flow": null,
            "grid_area": null,
            "grid_template_columns": null,
            "flex": null,
            "_model_name": "LayoutModel",
            "justify_items": null,
            "grid_row": null,
            "max_height": null,
            "align_content": null,
            "visibility": null,
            "align_self": null,
            "height": null,
            "min_height": null,
            "padding": null,
            "grid_auto_rows": null,
            "grid_gap": null,
            "max_width": null,
            "order": null,
            "_view_module_version": "1.2.0",
            "grid_template_areas": null,
            "object_position": null,
            "object_fit": null,
            "grid_auto_columns": null,
            "margin": null,
            "display": null,
            "left": null
          }
        },
        "f0310240d5cd445ca65ddf175faba762": {
          "model_module": "@jupyter-widgets/controls",
          "model_name": "FloatProgressModel",
          "state": {
            "_view_name": "ProgressView",
            "style": "IPY_MODEL_821d96b1f0014d46bb1ca0dd918602f7",
            "_dom_classes": [],
            "description": "Dl Completed...: 100%",
            "_model_name": "FloatProgressModel",
            "bar_style": "success",
            "max": 1,
            "_view_module": "@jupyter-widgets/controls",
            "_model_module_version": "1.5.0",
            "value": 1,
            "_view_count": null,
            "_view_module_version": "1.5.0",
            "orientation": "horizontal",
            "min": 0,
            "description_tooltip": null,
            "_model_module": "@jupyter-widgets/controls",
            "layout": "IPY_MODEL_18989661c8004a36b292660ae091d0eb"
          }
        },
        "30ed66726bf44753b92414c5d5d04024": {
          "model_module": "@jupyter-widgets/controls",
          "model_name": "HTMLModel",
          "state": {
            "_view_name": "HTMLView",
            "style": "IPY_MODEL_7abf33d1b5da4e38bfc54e5416c08fe9",
            "_dom_classes": [],
            "description": "",
            "_model_name": "HTMLModel",
            "placeholder": "​",
            "_view_module": "@jupyter-widgets/controls",
            "_model_module_version": "1.5.0",
            "value": " 4/4 [00:02&lt;00:00,  1.55 url/s]",
            "_view_count": null,
            "_view_module_version": "1.5.0",
            "description_tooltip": null,
            "_model_module": "@jupyter-widgets/controls",
            "layout": "IPY_MODEL_963464c2a7ee4ff6867922ea18c0626d"
          }
        },
        "821d96b1f0014d46bb1ca0dd918602f7": {
          "model_module": "@jupyter-widgets/controls",
          "model_name": "ProgressStyleModel",
          "state": {
            "_view_name": "StyleView",
            "_model_name": "ProgressStyleModel",
            "description_width": "initial",
            "_view_module": "@jupyter-widgets/base",
            "_model_module_version": "1.5.0",
            "_view_count": null,
            "_view_module_version": "1.2.0",
            "bar_color": null,
            "_model_module": "@jupyter-widgets/controls"
          }
        },
        "18989661c8004a36b292660ae091d0eb": {
          "model_module": "@jupyter-widgets/base",
          "model_name": "LayoutModel",
          "state": {
            "_view_name": "LayoutView",
            "grid_template_rows": null,
            "right": null,
            "justify_content": null,
            "_view_module": "@jupyter-widgets/base",
            "overflow": null,
            "_model_module_version": "1.2.0",
            "_view_count": null,
            "flex_flow": null,
            "width": null,
            "min_width": null,
            "border": null,
            "align_items": null,
            "bottom": null,
            "_model_module": "@jupyter-widgets/base",
            "top": null,
            "grid_column": null,
            "overflow_y": null,
            "overflow_x": null,
            "grid_auto_flow": null,
            "grid_area": null,
            "grid_template_columns": null,
            "flex": null,
            "_model_name": "LayoutModel",
            "justify_items": null,
            "grid_row": null,
            "max_height": null,
            "align_content": null,
            "visibility": null,
            "align_self": null,
            "height": null,
            "min_height": null,
            "padding": null,
            "grid_auto_rows": null,
            "grid_gap": null,
            "max_width": null,
            "order": null,
            "_view_module_version": "1.2.0",
            "grid_template_areas": null,
            "object_position": null,
            "object_fit": null,
            "grid_auto_columns": null,
            "margin": null,
            "display": null,
            "left": null
          }
        },
        "7abf33d1b5da4e38bfc54e5416c08fe9": {
          "model_module": "@jupyter-widgets/controls",
          "model_name": "DescriptionStyleModel",
          "state": {
            "_view_name": "StyleView",
            "_model_name": "DescriptionStyleModel",
            "description_width": "",
            "_view_module": "@jupyter-widgets/base",
            "_model_module_version": "1.5.0",
            "_view_count": null,
            "_view_module_version": "1.2.0",
            "_model_module": "@jupyter-widgets/controls"
          }
        },
        "963464c2a7ee4ff6867922ea18c0626d": {
          "model_module": "@jupyter-widgets/base",
          "model_name": "LayoutModel",
          "state": {
            "_view_name": "LayoutView",
            "grid_template_rows": null,
            "right": null,
            "justify_content": null,
            "_view_module": "@jupyter-widgets/base",
            "overflow": null,
            "_model_module_version": "1.2.0",
            "_view_count": null,
            "flex_flow": null,
            "width": null,
            "min_width": null,
            "border": null,
            "align_items": null,
            "bottom": null,
            "_model_module": "@jupyter-widgets/base",
            "top": null,
            "grid_column": null,
            "overflow_y": null,
            "overflow_x": null,
            "grid_auto_flow": null,
            "grid_area": null,
            "grid_template_columns": null,
            "flex": null,
            "_model_name": "LayoutModel",
            "justify_items": null,
            "grid_row": null,
            "max_height": null,
            "align_content": null,
            "visibility": null,
            "align_self": null,
            "height": null,
            "min_height": null,
            "padding": null,
            "grid_auto_rows": null,
            "grid_gap": null,
            "max_width": null,
            "order": null,
            "_view_module_version": "1.2.0",
            "grid_template_areas": null,
            "object_position": null,
            "object_fit": null,
            "grid_auto_columns": null,
            "margin": null,
            "display": null,
            "left": null
          }
        },
        "3d0209c952f24ff3962f4992bf5b4d0a": {
          "model_module": "@jupyter-widgets/controls",
          "model_name": "HBoxModel",
          "state": {
            "_view_name": "HBoxView",
            "_dom_classes": [],
            "_model_name": "HBoxModel",
            "_view_module": "@jupyter-widgets/controls",
            "_model_module_version": "1.5.0",
            "_view_count": null,
            "_view_module_version": "1.5.0",
            "box_style": "",
            "layout": "IPY_MODEL_48d846ed97c34491b015472d14641020",
            "_model_module": "@jupyter-widgets/controls",
            "children": [
              "IPY_MODEL_ae0adcaa1d654cdc9944515ec5fefaf3",
              "IPY_MODEL_c3367af346074cc8bc131083a232e9cb"
            ]
          }
        },
        "48d846ed97c34491b015472d14641020": {
          "model_module": "@jupyter-widgets/base",
          "model_name": "LayoutModel",
          "state": {
            "_view_name": "LayoutView",
            "grid_template_rows": null,
            "right": null,
            "justify_content": null,
            "_view_module": "@jupyter-widgets/base",
            "overflow": null,
            "_model_module_version": "1.2.0",
            "_view_count": null,
            "flex_flow": null,
            "width": null,
            "min_width": null,
            "border": null,
            "align_items": null,
            "bottom": null,
            "_model_module": "@jupyter-widgets/base",
            "top": null,
            "grid_column": null,
            "overflow_y": null,
            "overflow_x": null,
            "grid_auto_flow": null,
            "grid_area": null,
            "grid_template_columns": null,
            "flex": null,
            "_model_name": "LayoutModel",
            "justify_items": null,
            "grid_row": null,
            "max_height": null,
            "align_content": null,
            "visibility": null,
            "align_self": null,
            "height": null,
            "min_height": null,
            "padding": null,
            "grid_auto_rows": null,
            "grid_gap": null,
            "max_width": null,
            "order": null,
            "_view_module_version": "1.2.0",
            "grid_template_areas": null,
            "object_position": null,
            "object_fit": null,
            "grid_auto_columns": null,
            "margin": null,
            "display": null,
            "left": null
          }
        },
        "ae0adcaa1d654cdc9944515ec5fefaf3": {
          "model_module": "@jupyter-widgets/controls",
          "model_name": "FloatProgressModel",
          "state": {
            "_view_name": "ProgressView",
            "style": "IPY_MODEL_130772f716de4fc992df113066670caa",
            "_dom_classes": [],
            "description": "Dl Size...: 100%",
            "_model_name": "FloatProgressModel",
            "bar_style": "success",
            "max": 1,
            "_view_module": "@jupyter-widgets/controls",
            "_model_module_version": "1.5.0",
            "value": 1,
            "_view_count": null,
            "_view_module_version": "1.5.0",
            "orientation": "horizontal",
            "min": 0,
            "description_tooltip": null,
            "_model_module": "@jupyter-widgets/controls",
            "layout": "IPY_MODEL_3f01921c10ce417c8847988a75795a2c"
          }
        },
        "c3367af346074cc8bc131083a232e9cb": {
          "model_module": "@jupyter-widgets/controls",
          "model_name": "HTMLModel",
          "state": {
            "_view_name": "HTMLView",
            "style": "IPY_MODEL_72b428e1e8624c19975b0fa0c5fefb49",
            "_dom_classes": [],
            "description": "",
            "_model_name": "HTMLModel",
            "placeholder": "​",
            "_view_module": "@jupyter-widgets/controls",
            "_model_module_version": "1.5.0",
            "value": " 29/29 [00:02&lt;00:00, 11.44 MiB/s]",
            "_view_count": null,
            "_view_module_version": "1.5.0",
            "description_tooltip": null,
            "_model_module": "@jupyter-widgets/controls",
            "layout": "IPY_MODEL_e756e36413314216bfbcfabcb581fddf"
          }
        },
        "130772f716de4fc992df113066670caa": {
          "model_module": "@jupyter-widgets/controls",
          "model_name": "ProgressStyleModel",
          "state": {
            "_view_name": "StyleView",
            "_model_name": "ProgressStyleModel",
            "description_width": "initial",
            "_view_module": "@jupyter-widgets/base",
            "_model_module_version": "1.5.0",
            "_view_count": null,
            "_view_module_version": "1.2.0",
            "bar_color": null,
            "_model_module": "@jupyter-widgets/controls"
          }
        },
        "3f01921c10ce417c8847988a75795a2c": {
          "model_module": "@jupyter-widgets/base",
          "model_name": "LayoutModel",
          "state": {
            "_view_name": "LayoutView",
            "grid_template_rows": null,
            "right": null,
            "justify_content": null,
            "_view_module": "@jupyter-widgets/base",
            "overflow": null,
            "_model_module_version": "1.2.0",
            "_view_count": null,
            "flex_flow": null,
            "width": null,
            "min_width": null,
            "border": null,
            "align_items": null,
            "bottom": null,
            "_model_module": "@jupyter-widgets/base",
            "top": null,
            "grid_column": null,
            "overflow_y": null,
            "overflow_x": null,
            "grid_auto_flow": null,
            "grid_area": null,
            "grid_template_columns": null,
            "flex": null,
            "_model_name": "LayoutModel",
            "justify_items": null,
            "grid_row": null,
            "max_height": null,
            "align_content": null,
            "visibility": null,
            "align_self": null,
            "height": null,
            "min_height": null,
            "padding": null,
            "grid_auto_rows": null,
            "grid_gap": null,
            "max_width": null,
            "order": null,
            "_view_module_version": "1.2.0",
            "grid_template_areas": null,
            "object_position": null,
            "object_fit": null,
            "grid_auto_columns": null,
            "margin": null,
            "display": null,
            "left": null
          }
        },
        "72b428e1e8624c19975b0fa0c5fefb49": {
          "model_module": "@jupyter-widgets/controls",
          "model_name": "DescriptionStyleModel",
          "state": {
            "_view_name": "StyleView",
            "_model_name": "DescriptionStyleModel",
            "description_width": "",
            "_view_module": "@jupyter-widgets/base",
            "_model_module_version": "1.5.0",
            "_view_count": null,
            "_view_module_version": "1.2.0",
            "_model_module": "@jupyter-widgets/controls"
          }
        },
        "e756e36413314216bfbcfabcb581fddf": {
          "model_module": "@jupyter-widgets/base",
          "model_name": "LayoutModel",
          "state": {
            "_view_name": "LayoutView",
            "grid_template_rows": null,
            "right": null,
            "justify_content": null,
            "_view_module": "@jupyter-widgets/base",
            "overflow": null,
            "_model_module_version": "1.2.0",
            "_view_count": null,
            "flex_flow": null,
            "width": null,
            "min_width": null,
            "border": null,
            "align_items": null,
            "bottom": null,
            "_model_module": "@jupyter-widgets/base",
            "top": null,
            "grid_column": null,
            "overflow_y": null,
            "overflow_x": null,
            "grid_auto_flow": null,
            "grid_area": null,
            "grid_template_columns": null,
            "flex": null,
            "_model_name": "LayoutModel",
            "justify_items": null,
            "grid_row": null,
            "max_height": null,
            "align_content": null,
            "visibility": null,
            "align_self": null,
            "height": null,
            "min_height": null,
            "padding": null,
            "grid_auto_rows": null,
            "grid_gap": null,
            "max_width": null,
            "order": null,
            "_view_module_version": "1.2.0",
            "grid_template_areas": null,
            "object_position": null,
            "object_fit": null,
            "grid_auto_columns": null,
            "margin": null,
            "display": null,
            "left": null
          }
        },
        "e5fa8ee1e6824839b759f14e90004008": {
          "model_module": "@jupyter-widgets/controls",
          "model_name": "HBoxModel",
          "state": {
            "_view_name": "HBoxView",
            "_dom_classes": [],
            "_model_name": "HBoxModel",
            "_view_module": "@jupyter-widgets/controls",
            "_model_module_version": "1.5.0",
            "_view_count": null,
            "_view_module_version": "1.5.0",
            "box_style": "",
            "layout": "IPY_MODEL_7ca486fc4cd04821b25a6cbdc3c97919",
            "_model_module": "@jupyter-widgets/controls",
            "children": [
              "IPY_MODEL_9098dbbaa2214d2d82a41531bc03d7d2",
              "IPY_MODEL_3e9238cb2cb64181bce6f8dcbc338dc8"
            ]
          }
        },
        "7ca486fc4cd04821b25a6cbdc3c97919": {
          "model_module": "@jupyter-widgets/base",
          "model_name": "LayoutModel",
          "state": {
            "_view_name": "LayoutView",
            "grid_template_rows": null,
            "right": null,
            "justify_content": null,
            "_view_module": "@jupyter-widgets/base",
            "overflow": null,
            "_model_module_version": "1.2.0",
            "_view_count": null,
            "flex_flow": null,
            "width": null,
            "min_width": null,
            "border": null,
            "align_items": null,
            "bottom": null,
            "_model_module": "@jupyter-widgets/base",
            "top": null,
            "grid_column": null,
            "overflow_y": null,
            "overflow_x": null,
            "grid_auto_flow": null,
            "grid_area": null,
            "grid_template_columns": null,
            "flex": null,
            "_model_name": "LayoutModel",
            "justify_items": null,
            "grid_row": null,
            "max_height": null,
            "align_content": null,
            "visibility": null,
            "align_self": null,
            "height": null,
            "min_height": null,
            "padding": null,
            "grid_auto_rows": null,
            "grid_gap": null,
            "max_width": null,
            "order": null,
            "_view_module_version": "1.2.0",
            "grid_template_areas": null,
            "object_position": null,
            "object_fit": null,
            "grid_auto_columns": null,
            "margin": null,
            "display": null,
            "left": null
          }
        },
        "9098dbbaa2214d2d82a41531bc03d7d2": {
          "model_module": "@jupyter-widgets/controls",
          "model_name": "FloatProgressModel",
          "state": {
            "_view_name": "ProgressView",
            "style": "IPY_MODEL_622058a3477d440a86696106c291705d",
            "_dom_classes": [],
            "description": "Extraction completed...: 100%",
            "_model_name": "FloatProgressModel",
            "bar_style": "success",
            "max": 1,
            "_view_module": "@jupyter-widgets/controls",
            "_model_module_version": "1.5.0",
            "value": 1,
            "_view_count": null,
            "_view_module_version": "1.5.0",
            "orientation": "horizontal",
            "min": 0,
            "description_tooltip": null,
            "_model_module": "@jupyter-widgets/controls",
            "layout": "IPY_MODEL_e872bb97ef5e4d9bba43495e1080dc42"
          }
        },
        "3e9238cb2cb64181bce6f8dcbc338dc8": {
          "model_module": "@jupyter-widgets/controls",
          "model_name": "HTMLModel",
          "state": {
            "_view_name": "HTMLView",
            "style": "IPY_MODEL_2159a2eedc954e14870830fa03f7e012",
            "_dom_classes": [],
            "description": "",
            "_model_name": "HTMLModel",
            "placeholder": "​",
            "_view_module": "@jupyter-widgets/controls",
            "_model_module_version": "1.5.0",
            "value": " 4/4 [00:02&lt;00:00,  1.62 file/s]",
            "_view_count": null,
            "_view_module_version": "1.5.0",
            "description_tooltip": null,
            "_model_module": "@jupyter-widgets/controls",
            "layout": "IPY_MODEL_69f8ece165c14af1ad1874f627f80622"
          }
        },
        "622058a3477d440a86696106c291705d": {
          "model_module": "@jupyter-widgets/controls",
          "model_name": "ProgressStyleModel",
          "state": {
            "_view_name": "StyleView",
            "_model_name": "ProgressStyleModel",
            "description_width": "initial",
            "_view_module": "@jupyter-widgets/base",
            "_model_module_version": "1.5.0",
            "_view_count": null,
            "_view_module_version": "1.2.0",
            "bar_color": null,
            "_model_module": "@jupyter-widgets/controls"
          }
        },
        "e872bb97ef5e4d9bba43495e1080dc42": {
          "model_module": "@jupyter-widgets/base",
          "model_name": "LayoutModel",
          "state": {
            "_view_name": "LayoutView",
            "grid_template_rows": null,
            "right": null,
            "justify_content": null,
            "_view_module": "@jupyter-widgets/base",
            "overflow": null,
            "_model_module_version": "1.2.0",
            "_view_count": null,
            "flex_flow": null,
            "width": null,
            "min_width": null,
            "border": null,
            "align_items": null,
            "bottom": null,
            "_model_module": "@jupyter-widgets/base",
            "top": null,
            "grid_column": null,
            "overflow_y": null,
            "overflow_x": null,
            "grid_auto_flow": null,
            "grid_area": null,
            "grid_template_columns": null,
            "flex": null,
            "_model_name": "LayoutModel",
            "justify_items": null,
            "grid_row": null,
            "max_height": null,
            "align_content": null,
            "visibility": null,
            "align_self": null,
            "height": null,
            "min_height": null,
            "padding": null,
            "grid_auto_rows": null,
            "grid_gap": null,
            "max_width": null,
            "order": null,
            "_view_module_version": "1.2.0",
            "grid_template_areas": null,
            "object_position": null,
            "object_fit": null,
            "grid_auto_columns": null,
            "margin": null,
            "display": null,
            "left": null
          }
        },
        "2159a2eedc954e14870830fa03f7e012": {
          "model_module": "@jupyter-widgets/controls",
          "model_name": "DescriptionStyleModel",
          "state": {
            "_view_name": "StyleView",
            "_model_name": "DescriptionStyleModel",
            "description_width": "",
            "_view_module": "@jupyter-widgets/base",
            "_model_module_version": "1.5.0",
            "_view_count": null,
            "_view_module_version": "1.2.0",
            "_model_module": "@jupyter-widgets/controls"
          }
        },
        "69f8ece165c14af1ad1874f627f80622": {
          "model_module": "@jupyter-widgets/base",
          "model_name": "LayoutModel",
          "state": {
            "_view_name": "LayoutView",
            "grid_template_rows": null,
            "right": null,
            "justify_content": null,
            "_view_module": "@jupyter-widgets/base",
            "overflow": null,
            "_model_module_version": "1.2.0",
            "_view_count": null,
            "flex_flow": null,
            "width": null,
            "min_width": null,
            "border": null,
            "align_items": null,
            "bottom": null,
            "_model_module": "@jupyter-widgets/base",
            "top": null,
            "grid_column": null,
            "overflow_y": null,
            "overflow_x": null,
            "grid_auto_flow": null,
            "grid_area": null,
            "grid_template_columns": null,
            "flex": null,
            "_model_name": "LayoutModel",
            "justify_items": null,
            "grid_row": null,
            "max_height": null,
            "align_content": null,
            "visibility": null,
            "align_self": null,
            "height": null,
            "min_height": null,
            "padding": null,
            "grid_auto_rows": null,
            "grid_gap": null,
            "max_width": null,
            "order": null,
            "_view_module_version": "1.2.0",
            "grid_template_areas": null,
            "object_position": null,
            "object_fit": null,
            "grid_auto_columns": null,
            "margin": null,
            "display": null,
            "left": null
          }
        },
        "84c18ec1996c4dc79d8b5c45a831df4b": {
          "model_module": "@jupyter-widgets/controls",
          "model_name": "HBoxModel",
          "state": {
            "_view_name": "HBoxView",
            "_dom_classes": [],
            "_model_name": "HBoxModel",
            "_view_module": "@jupyter-widgets/controls",
            "_model_module_version": "1.5.0",
            "_view_count": null,
            "_view_module_version": "1.5.0",
            "box_style": "",
            "layout": "IPY_MODEL_0e7ef86f0e76467da264470b63208dcb",
            "_model_module": "@jupyter-widgets/controls",
            "children": [
              "IPY_MODEL_2a9dab05408f4c50ba5354ad99d51c41",
              "IPY_MODEL_e45856cf936d4eaf85f9843aef2f31a8"
            ]
          }
        },
        "0e7ef86f0e76467da264470b63208dcb": {
          "model_module": "@jupyter-widgets/base",
          "model_name": "LayoutModel",
          "state": {
            "_view_name": "LayoutView",
            "grid_template_rows": null,
            "right": null,
            "justify_content": null,
            "_view_module": "@jupyter-widgets/base",
            "overflow": null,
            "_model_module_version": "1.2.0",
            "_view_count": null,
            "flex_flow": null,
            "width": null,
            "min_width": null,
            "border": null,
            "align_items": null,
            "bottom": null,
            "_model_module": "@jupyter-widgets/base",
            "top": null,
            "grid_column": null,
            "overflow_y": null,
            "overflow_x": null,
            "grid_auto_flow": null,
            "grid_area": null,
            "grid_template_columns": null,
            "flex": null,
            "_model_name": "LayoutModel",
            "justify_items": null,
            "grid_row": null,
            "max_height": null,
            "align_content": null,
            "visibility": null,
            "align_self": null,
            "height": null,
            "min_height": null,
            "padding": null,
            "grid_auto_rows": null,
            "grid_gap": null,
            "max_width": null,
            "order": null,
            "_view_module_version": "1.2.0",
            "grid_template_areas": null,
            "object_position": null,
            "object_fit": null,
            "grid_auto_columns": null,
            "margin": null,
            "display": null,
            "left": null
          }
        },
        "2a9dab05408f4c50ba5354ad99d51c41": {
          "model_module": "@jupyter-widgets/controls",
          "model_name": "FloatProgressModel",
          "state": {
            "_view_name": "ProgressView",
            "style": "IPY_MODEL_7a4d8a99b1ec4040b889ef7de756594f",
            "_dom_classes": [],
            "description": "",
            "_model_name": "FloatProgressModel",
            "bar_style": "info",
            "max": 1,
            "_view_module": "@jupyter-widgets/controls",
            "_model_module_version": "1.5.0",
            "value": 1,
            "_view_count": null,
            "_view_module_version": "1.5.0",
            "orientation": "horizontal",
            "min": 0,
            "description_tooltip": null,
            "_model_module": "@jupyter-widgets/controls",
            "layout": "IPY_MODEL_7494196c44824f5f9705e8b61375b493"
          }
        },
        "e45856cf936d4eaf85f9843aef2f31a8": {
          "model_module": "@jupyter-widgets/controls",
          "model_name": "HTMLModel",
          "state": {
            "_view_name": "HTMLView",
            "style": "IPY_MODEL_9a433f492fc441618f0a06f84104722a",
            "_dom_classes": [],
            "description": "",
            "_model_name": "HTMLModel",
            "placeholder": "​",
            "_view_module": "@jupyter-widgets/controls",
            "_model_module_version": "1.5.0",
            "value": " 60000/0 [00:23&lt;00:00, 2693.87 examples/s]",
            "_view_count": null,
            "_view_module_version": "1.5.0",
            "description_tooltip": null,
            "_model_module": "@jupyter-widgets/controls",
            "layout": "IPY_MODEL_f53664ecfdc94440bbdc50bfd963167f"
          }
        },
        "7a4d8a99b1ec4040b889ef7de756594f": {
          "model_module": "@jupyter-widgets/controls",
          "model_name": "ProgressStyleModel",
          "state": {
            "_view_name": "StyleView",
            "_model_name": "ProgressStyleModel",
            "description_width": "initial",
            "_view_module": "@jupyter-widgets/base",
            "_model_module_version": "1.5.0",
            "_view_count": null,
            "_view_module_version": "1.2.0",
            "bar_color": null,
            "_model_module": "@jupyter-widgets/controls"
          }
        },
        "7494196c44824f5f9705e8b61375b493": {
          "model_module": "@jupyter-widgets/base",
          "model_name": "LayoutModel",
          "state": {
            "_view_name": "LayoutView",
            "grid_template_rows": null,
            "right": null,
            "justify_content": null,
            "_view_module": "@jupyter-widgets/base",
            "overflow": null,
            "_model_module_version": "1.2.0",
            "_view_count": null,
            "flex_flow": null,
            "width": null,
            "min_width": null,
            "border": null,
            "align_items": null,
            "bottom": null,
            "_model_module": "@jupyter-widgets/base",
            "top": null,
            "grid_column": null,
            "overflow_y": null,
            "overflow_x": null,
            "grid_auto_flow": null,
            "grid_area": null,
            "grid_template_columns": null,
            "flex": null,
            "_model_name": "LayoutModel",
            "justify_items": null,
            "grid_row": null,
            "max_height": null,
            "align_content": null,
            "visibility": null,
            "align_self": null,
            "height": null,
            "min_height": null,
            "padding": null,
            "grid_auto_rows": null,
            "grid_gap": null,
            "max_width": null,
            "order": null,
            "_view_module_version": "1.2.0",
            "grid_template_areas": null,
            "object_position": null,
            "object_fit": null,
            "grid_auto_columns": null,
            "margin": null,
            "display": null,
            "left": null
          }
        },
        "9a433f492fc441618f0a06f84104722a": {
          "model_module": "@jupyter-widgets/controls",
          "model_name": "DescriptionStyleModel",
          "state": {
            "_view_name": "StyleView",
            "_model_name": "DescriptionStyleModel",
            "description_width": "",
            "_view_module": "@jupyter-widgets/base",
            "_model_module_version": "1.5.0",
            "_view_count": null,
            "_view_module_version": "1.2.0",
            "_model_module": "@jupyter-widgets/controls"
          }
        },
        "f53664ecfdc94440bbdc50bfd963167f": {
          "model_module": "@jupyter-widgets/base",
          "model_name": "LayoutModel",
          "state": {
            "_view_name": "LayoutView",
            "grid_template_rows": null,
            "right": null,
            "justify_content": null,
            "_view_module": "@jupyter-widgets/base",
            "overflow": null,
            "_model_module_version": "1.2.0",
            "_view_count": null,
            "flex_flow": null,
            "width": null,
            "min_width": null,
            "border": null,
            "align_items": null,
            "bottom": null,
            "_model_module": "@jupyter-widgets/base",
            "top": null,
            "grid_column": null,
            "overflow_y": null,
            "overflow_x": null,
            "grid_auto_flow": null,
            "grid_area": null,
            "grid_template_columns": null,
            "flex": null,
            "_model_name": "LayoutModel",
            "justify_items": null,
            "grid_row": null,
            "max_height": null,
            "align_content": null,
            "visibility": null,
            "align_self": null,
            "height": null,
            "min_height": null,
            "padding": null,
            "grid_auto_rows": null,
            "grid_gap": null,
            "max_width": null,
            "order": null,
            "_view_module_version": "1.2.0",
            "grid_template_areas": null,
            "object_position": null,
            "object_fit": null,
            "grid_auto_columns": null,
            "margin": null,
            "display": null,
            "left": null
          }
        },
        "5afa30f122ed47dcaa5e29681911dd35": {
          "model_module": "@jupyter-widgets/controls",
          "model_name": "HBoxModel",
          "state": {
            "_view_name": "HBoxView",
            "_dom_classes": [],
            "_model_name": "HBoxModel",
            "_view_module": "@jupyter-widgets/controls",
            "_model_module_version": "1.5.0",
            "_view_count": null,
            "_view_module_version": "1.5.0",
            "box_style": "",
            "layout": "IPY_MODEL_daf89b93838a4f418b4afc47d742e2f6",
            "_model_module": "@jupyter-widgets/controls",
            "children": [
              "IPY_MODEL_b7c900d5a03f4e90b332e5e8558dade1",
              "IPY_MODEL_dc5e2a0b56194765a18b82f66015d8dc"
            ]
          }
        },
        "daf89b93838a4f418b4afc47d742e2f6": {
          "model_module": "@jupyter-widgets/base",
          "model_name": "LayoutModel",
          "state": {
            "_view_name": "LayoutView",
            "grid_template_rows": null,
            "right": null,
            "justify_content": null,
            "_view_module": "@jupyter-widgets/base",
            "overflow": null,
            "_model_module_version": "1.2.0",
            "_view_count": null,
            "flex_flow": null,
            "width": null,
            "min_width": null,
            "border": null,
            "align_items": null,
            "bottom": null,
            "_model_module": "@jupyter-widgets/base",
            "top": null,
            "grid_column": null,
            "overflow_y": null,
            "overflow_x": null,
            "grid_auto_flow": null,
            "grid_area": null,
            "grid_template_columns": null,
            "flex": null,
            "_model_name": "LayoutModel",
            "justify_items": null,
            "grid_row": null,
            "max_height": null,
            "align_content": null,
            "visibility": null,
            "align_self": null,
            "height": null,
            "min_height": null,
            "padding": null,
            "grid_auto_rows": null,
            "grid_gap": null,
            "max_width": null,
            "order": null,
            "_view_module_version": "1.2.0",
            "grid_template_areas": null,
            "object_position": null,
            "object_fit": null,
            "grid_auto_columns": null,
            "margin": null,
            "display": null,
            "left": null
          }
        },
        "b7c900d5a03f4e90b332e5e8558dade1": {
          "model_module": "@jupyter-widgets/controls",
          "model_name": "FloatProgressModel",
          "state": {
            "_view_name": "ProgressView",
            "style": "IPY_MODEL_5a6413f7e03d4ecf968c419d4a8f8fcb",
            "_dom_classes": [],
            "description": " 57%",
            "_model_name": "FloatProgressModel",
            "bar_style": "danger",
            "max": 60000,
            "_view_module": "@jupyter-widgets/controls",
            "_model_module_version": "1.5.0",
            "value": 34352,
            "_view_count": null,
            "_view_module_version": "1.5.0",
            "orientation": "horizontal",
            "min": 0,
            "description_tooltip": null,
            "_model_module": "@jupyter-widgets/controls",
            "layout": "IPY_MODEL_5ad72533fd1b4797bf22d82f98a665f1"
          }
        },
        "dc5e2a0b56194765a18b82f66015d8dc": {
          "model_module": "@jupyter-widgets/controls",
          "model_name": "HTMLModel",
          "state": {
            "_view_name": "HTMLView",
            "style": "IPY_MODEL_8fadc6e424e3489c89c88136a1c939a9",
            "_dom_classes": [],
            "description": "",
            "_model_name": "HTMLModel",
            "placeholder": "​",
            "_view_module": "@jupyter-widgets/controls",
            "_model_module_version": "1.5.0",
            "value": " 34352/60000 [00:00&lt;36:34, 11.69 examples/s]",
            "_view_count": null,
            "_view_module_version": "1.5.0",
            "description_tooltip": null,
            "_model_module": "@jupyter-widgets/controls",
            "layout": "IPY_MODEL_9070658245ca43b9a05e1b2ff8e0b16f"
          }
        },
        "5a6413f7e03d4ecf968c419d4a8f8fcb": {
          "model_module": "@jupyter-widgets/controls",
          "model_name": "ProgressStyleModel",
          "state": {
            "_view_name": "StyleView",
            "_model_name": "ProgressStyleModel",
            "description_width": "initial",
            "_view_module": "@jupyter-widgets/base",
            "_model_module_version": "1.5.0",
            "_view_count": null,
            "_view_module_version": "1.2.0",
            "bar_color": null,
            "_model_module": "@jupyter-widgets/controls"
          }
        },
        "5ad72533fd1b4797bf22d82f98a665f1": {
          "model_module": "@jupyter-widgets/base",
          "model_name": "LayoutModel",
          "state": {
            "_view_name": "LayoutView",
            "grid_template_rows": null,
            "right": null,
            "justify_content": null,
            "_view_module": "@jupyter-widgets/base",
            "overflow": null,
            "_model_module_version": "1.2.0",
            "_view_count": null,
            "flex_flow": null,
            "width": null,
            "min_width": null,
            "border": null,
            "align_items": null,
            "bottom": null,
            "_model_module": "@jupyter-widgets/base",
            "top": null,
            "grid_column": null,
            "overflow_y": null,
            "overflow_x": null,
            "grid_auto_flow": null,
            "grid_area": null,
            "grid_template_columns": null,
            "flex": null,
            "_model_name": "LayoutModel",
            "justify_items": null,
            "grid_row": null,
            "max_height": null,
            "align_content": null,
            "visibility": null,
            "align_self": null,
            "height": null,
            "min_height": null,
            "padding": null,
            "grid_auto_rows": null,
            "grid_gap": null,
            "max_width": null,
            "order": null,
            "_view_module_version": "1.2.0",
            "grid_template_areas": null,
            "object_position": null,
            "object_fit": null,
            "grid_auto_columns": null,
            "margin": null,
            "display": null,
            "left": null
          }
        },
        "8fadc6e424e3489c89c88136a1c939a9": {
          "model_module": "@jupyter-widgets/controls",
          "model_name": "DescriptionStyleModel",
          "state": {
            "_view_name": "StyleView",
            "_model_name": "DescriptionStyleModel",
            "description_width": "",
            "_view_module": "@jupyter-widgets/base",
            "_model_module_version": "1.5.0",
            "_view_count": null,
            "_view_module_version": "1.2.0",
            "_model_module": "@jupyter-widgets/controls"
          }
        },
        "9070658245ca43b9a05e1b2ff8e0b16f": {
          "model_module": "@jupyter-widgets/base",
          "model_name": "LayoutModel",
          "state": {
            "_view_name": "LayoutView",
            "grid_template_rows": null,
            "right": null,
            "justify_content": null,
            "_view_module": "@jupyter-widgets/base",
            "overflow": null,
            "_model_module_version": "1.2.0",
            "_view_count": null,
            "flex_flow": null,
            "width": null,
            "min_width": null,
            "border": null,
            "align_items": null,
            "bottom": null,
            "_model_module": "@jupyter-widgets/base",
            "top": null,
            "grid_column": null,
            "overflow_y": null,
            "overflow_x": null,
            "grid_auto_flow": null,
            "grid_area": null,
            "grid_template_columns": null,
            "flex": null,
            "_model_name": "LayoutModel",
            "justify_items": null,
            "grid_row": null,
            "max_height": null,
            "align_content": null,
            "visibility": null,
            "align_self": null,
            "height": null,
            "min_height": null,
            "padding": null,
            "grid_auto_rows": null,
            "grid_gap": null,
            "max_width": null,
            "order": null,
            "_view_module_version": "1.2.0",
            "grid_template_areas": null,
            "object_position": null,
            "object_fit": null,
            "grid_auto_columns": null,
            "margin": null,
            "display": null,
            "left": null
          }
        },
        "b835092680be405bb6c681fda117473f": {
          "model_module": "@jupyter-widgets/controls",
          "model_name": "HBoxModel",
          "state": {
            "_view_name": "HBoxView",
            "_dom_classes": [],
            "_model_name": "HBoxModel",
            "_view_module": "@jupyter-widgets/controls",
            "_model_module_version": "1.5.0",
            "_view_count": null,
            "_view_module_version": "1.5.0",
            "box_style": "",
            "layout": "IPY_MODEL_e6ad63b168d74cd183c97cae533d6eec",
            "_model_module": "@jupyter-widgets/controls",
            "children": [
              "IPY_MODEL_50a92a4bb6344ef1ad5064a8d24ef5cb",
              "IPY_MODEL_e19be94f91c64240a584542fdf768093"
            ]
          }
        },
        "e6ad63b168d74cd183c97cae533d6eec": {
          "model_module": "@jupyter-widgets/base",
          "model_name": "LayoutModel",
          "state": {
            "_view_name": "LayoutView",
            "grid_template_rows": null,
            "right": null,
            "justify_content": null,
            "_view_module": "@jupyter-widgets/base",
            "overflow": null,
            "_model_module_version": "1.2.0",
            "_view_count": null,
            "flex_flow": null,
            "width": null,
            "min_width": null,
            "border": null,
            "align_items": null,
            "bottom": null,
            "_model_module": "@jupyter-widgets/base",
            "top": null,
            "grid_column": null,
            "overflow_y": null,
            "overflow_x": null,
            "grid_auto_flow": null,
            "grid_area": null,
            "grid_template_columns": null,
            "flex": null,
            "_model_name": "LayoutModel",
            "justify_items": null,
            "grid_row": null,
            "max_height": null,
            "align_content": null,
            "visibility": null,
            "align_self": null,
            "height": null,
            "min_height": null,
            "padding": null,
            "grid_auto_rows": null,
            "grid_gap": null,
            "max_width": null,
            "order": null,
            "_view_module_version": "1.2.0",
            "grid_template_areas": null,
            "object_position": null,
            "object_fit": null,
            "grid_auto_columns": null,
            "margin": null,
            "display": null,
            "left": null
          }
        },
        "50a92a4bb6344ef1ad5064a8d24ef5cb": {
          "model_module": "@jupyter-widgets/controls",
          "model_name": "FloatProgressModel",
          "state": {
            "_view_name": "ProgressView",
            "style": "IPY_MODEL_44a2aa0db89b41639d6454f193d77f24",
            "_dom_classes": [],
            "description": "",
            "_model_name": "FloatProgressModel",
            "bar_style": "info",
            "max": 1,
            "_view_module": "@jupyter-widgets/controls",
            "_model_module_version": "1.5.0",
            "value": 1,
            "_view_count": null,
            "_view_module_version": "1.5.0",
            "orientation": "horizontal",
            "min": 0,
            "description_tooltip": null,
            "_model_module": "@jupyter-widgets/controls",
            "layout": "IPY_MODEL_1a0bc6e34cd74c5cb49ff581e7dd8bb0"
          }
        },
        "e19be94f91c64240a584542fdf768093": {
          "model_module": "@jupyter-widgets/controls",
          "model_name": "HTMLModel",
          "state": {
            "_view_name": "HTMLView",
            "style": "IPY_MODEL_50062ae684914ec999b7e095fc8ca143",
            "_dom_classes": [],
            "description": "",
            "_model_name": "HTMLModel",
            "placeholder": "​",
            "_view_module": "@jupyter-widgets/controls",
            "_model_module_version": "1.5.0",
            "value": " 10000/0 [00:04&lt;00:00, 2612.20 examples/s]",
            "_view_count": null,
            "_view_module_version": "1.5.0",
            "description_tooltip": null,
            "_model_module": "@jupyter-widgets/controls",
            "layout": "IPY_MODEL_76bbe11342964258839ce886e5ec1e8a"
          }
        },
        "44a2aa0db89b41639d6454f193d77f24": {
          "model_module": "@jupyter-widgets/controls",
          "model_name": "ProgressStyleModel",
          "state": {
            "_view_name": "StyleView",
            "_model_name": "ProgressStyleModel",
            "description_width": "initial",
            "_view_module": "@jupyter-widgets/base",
            "_model_module_version": "1.5.0",
            "_view_count": null,
            "_view_module_version": "1.2.0",
            "bar_color": null,
            "_model_module": "@jupyter-widgets/controls"
          }
        },
        "1a0bc6e34cd74c5cb49ff581e7dd8bb0": {
          "model_module": "@jupyter-widgets/base",
          "model_name": "LayoutModel",
          "state": {
            "_view_name": "LayoutView",
            "grid_template_rows": null,
            "right": null,
            "justify_content": null,
            "_view_module": "@jupyter-widgets/base",
            "overflow": null,
            "_model_module_version": "1.2.0",
            "_view_count": null,
            "flex_flow": null,
            "width": null,
            "min_width": null,
            "border": null,
            "align_items": null,
            "bottom": null,
            "_model_module": "@jupyter-widgets/base",
            "top": null,
            "grid_column": null,
            "overflow_y": null,
            "overflow_x": null,
            "grid_auto_flow": null,
            "grid_area": null,
            "grid_template_columns": null,
            "flex": null,
            "_model_name": "LayoutModel",
            "justify_items": null,
            "grid_row": null,
            "max_height": null,
            "align_content": null,
            "visibility": null,
            "align_self": null,
            "height": null,
            "min_height": null,
            "padding": null,
            "grid_auto_rows": null,
            "grid_gap": null,
            "max_width": null,
            "order": null,
            "_view_module_version": "1.2.0",
            "grid_template_areas": null,
            "object_position": null,
            "object_fit": null,
            "grid_auto_columns": null,
            "margin": null,
            "display": null,
            "left": null
          }
        },
        "50062ae684914ec999b7e095fc8ca143": {
          "model_module": "@jupyter-widgets/controls",
          "model_name": "DescriptionStyleModel",
          "state": {
            "_view_name": "StyleView",
            "_model_name": "DescriptionStyleModel",
            "description_width": "",
            "_view_module": "@jupyter-widgets/base",
            "_model_module_version": "1.5.0",
            "_view_count": null,
            "_view_module_version": "1.2.0",
            "_model_module": "@jupyter-widgets/controls"
          }
        },
        "76bbe11342964258839ce886e5ec1e8a": {
          "model_module": "@jupyter-widgets/base",
          "model_name": "LayoutModel",
          "state": {
            "_view_name": "LayoutView",
            "grid_template_rows": null,
            "right": null,
            "justify_content": null,
            "_view_module": "@jupyter-widgets/base",
            "overflow": null,
            "_model_module_version": "1.2.0",
            "_view_count": null,
            "flex_flow": null,
            "width": null,
            "min_width": null,
            "border": null,
            "align_items": null,
            "bottom": null,
            "_model_module": "@jupyter-widgets/base",
            "top": null,
            "grid_column": null,
            "overflow_y": null,
            "overflow_x": null,
            "grid_auto_flow": null,
            "grid_area": null,
            "grid_template_columns": null,
            "flex": null,
            "_model_name": "LayoutModel",
            "justify_items": null,
            "grid_row": null,
            "max_height": null,
            "align_content": null,
            "visibility": null,
            "align_self": null,
            "height": null,
            "min_height": null,
            "padding": null,
            "grid_auto_rows": null,
            "grid_gap": null,
            "max_width": null,
            "order": null,
            "_view_module_version": "1.2.0",
            "grid_template_areas": null,
            "object_position": null,
            "object_fit": null,
            "grid_auto_columns": null,
            "margin": null,
            "display": null,
            "left": null
          }
        },
        "efc0d37b69614f12a84903ff332567c8": {
          "model_module": "@jupyter-widgets/controls",
          "model_name": "HBoxModel",
          "state": {
            "_view_name": "HBoxView",
            "_dom_classes": [],
            "_model_name": "HBoxModel",
            "_view_module": "@jupyter-widgets/controls",
            "_model_module_version": "1.5.0",
            "_view_count": null,
            "_view_module_version": "1.5.0",
            "box_style": "",
            "layout": "IPY_MODEL_06ad1dad50bf43e3932d0d58755c649d",
            "_model_module": "@jupyter-widgets/controls",
            "children": [
              "IPY_MODEL_7a7b72a465ae4d9786f3c602ce8415d1",
              "IPY_MODEL_ba25a9a0037c4bb4b9a3f9a51dd884f6"
            ]
          }
        },
        "06ad1dad50bf43e3932d0d58755c649d": {
          "model_module": "@jupyter-widgets/base",
          "model_name": "LayoutModel",
          "state": {
            "_view_name": "LayoutView",
            "grid_template_rows": null,
            "right": null,
            "justify_content": null,
            "_view_module": "@jupyter-widgets/base",
            "overflow": null,
            "_model_module_version": "1.2.0",
            "_view_count": null,
            "flex_flow": null,
            "width": null,
            "min_width": null,
            "border": null,
            "align_items": null,
            "bottom": null,
            "_model_module": "@jupyter-widgets/base",
            "top": null,
            "grid_column": null,
            "overflow_y": null,
            "overflow_x": null,
            "grid_auto_flow": null,
            "grid_area": null,
            "grid_template_columns": null,
            "flex": null,
            "_model_name": "LayoutModel",
            "justify_items": null,
            "grid_row": null,
            "max_height": null,
            "align_content": null,
            "visibility": null,
            "align_self": null,
            "height": null,
            "min_height": null,
            "padding": null,
            "grid_auto_rows": null,
            "grid_gap": null,
            "max_width": null,
            "order": null,
            "_view_module_version": "1.2.0",
            "grid_template_areas": null,
            "object_position": null,
            "object_fit": null,
            "grid_auto_columns": null,
            "margin": null,
            "display": null,
            "left": null
          }
        },
        "7a7b72a465ae4d9786f3c602ce8415d1": {
          "model_module": "@jupyter-widgets/controls",
          "model_name": "FloatProgressModel",
          "state": {
            "_view_name": "ProgressView",
            "style": "IPY_MODEL_80facfa8540f4832995e09de836df53c",
            "_dom_classes": [],
            "description": "  0%",
            "_model_name": "FloatProgressModel",
            "bar_style": "danger",
            "max": 10000,
            "_view_module": "@jupyter-widgets/controls",
            "_model_module_version": "1.5.0",
            "value": 0,
            "_view_count": null,
            "_view_module_version": "1.5.0",
            "orientation": "horizontal",
            "min": 0,
            "description_tooltip": null,
            "_model_module": "@jupyter-widgets/controls",
            "layout": "IPY_MODEL_c8cd11e2b79443b88e7532cafcc746e6"
          }
        },
        "ba25a9a0037c4bb4b9a3f9a51dd884f6": {
          "model_module": "@jupyter-widgets/controls",
          "model_name": "HTMLModel",
          "state": {
            "_view_name": "HTMLView",
            "style": "IPY_MODEL_4ff18e13fa5347d08eb1e70bb8d765bb",
            "_dom_classes": [],
            "description": "",
            "_model_name": "HTMLModel",
            "placeholder": "​",
            "_view_module": "@jupyter-widgets/controls",
            "_model_module_version": "1.5.0",
            "value": " 0/10000 [00:00&lt;?, ? examples/s]",
            "_view_count": null,
            "_view_module_version": "1.5.0",
            "description_tooltip": null,
            "_model_module": "@jupyter-widgets/controls",
            "layout": "IPY_MODEL_d7eb8dc9f79341a9801b93b6d1abeb5d"
          }
        },
        "80facfa8540f4832995e09de836df53c": {
          "model_module": "@jupyter-widgets/controls",
          "model_name": "ProgressStyleModel",
          "state": {
            "_view_name": "StyleView",
            "_model_name": "ProgressStyleModel",
            "description_width": "initial",
            "_view_module": "@jupyter-widgets/base",
            "_model_module_version": "1.5.0",
            "_view_count": null,
            "_view_module_version": "1.2.0",
            "bar_color": null,
            "_model_module": "@jupyter-widgets/controls"
          }
        },
        "c8cd11e2b79443b88e7532cafcc746e6": {
          "model_module": "@jupyter-widgets/base",
          "model_name": "LayoutModel",
          "state": {
            "_view_name": "LayoutView",
            "grid_template_rows": null,
            "right": null,
            "justify_content": null,
            "_view_module": "@jupyter-widgets/base",
            "overflow": null,
            "_model_module_version": "1.2.0",
            "_view_count": null,
            "flex_flow": null,
            "width": null,
            "min_width": null,
            "border": null,
            "align_items": null,
            "bottom": null,
            "_model_module": "@jupyter-widgets/base",
            "top": null,
            "grid_column": null,
            "overflow_y": null,
            "overflow_x": null,
            "grid_auto_flow": null,
            "grid_area": null,
            "grid_template_columns": null,
            "flex": null,
            "_model_name": "LayoutModel",
            "justify_items": null,
            "grid_row": null,
            "max_height": null,
            "align_content": null,
            "visibility": null,
            "align_self": null,
            "height": null,
            "min_height": null,
            "padding": null,
            "grid_auto_rows": null,
            "grid_gap": null,
            "max_width": null,
            "order": null,
            "_view_module_version": "1.2.0",
            "grid_template_areas": null,
            "object_position": null,
            "object_fit": null,
            "grid_auto_columns": null,
            "margin": null,
            "display": null,
            "left": null
          }
        },
        "4ff18e13fa5347d08eb1e70bb8d765bb": {
          "model_module": "@jupyter-widgets/controls",
          "model_name": "DescriptionStyleModel",
          "state": {
            "_view_name": "StyleView",
            "_model_name": "DescriptionStyleModel",
            "description_width": "",
            "_view_module": "@jupyter-widgets/base",
            "_model_module_version": "1.5.0",
            "_view_count": null,
            "_view_module_version": "1.2.0",
            "_model_module": "@jupyter-widgets/controls"
          }
        },
        "d7eb8dc9f79341a9801b93b6d1abeb5d": {
          "model_module": "@jupyter-widgets/base",
          "model_name": "LayoutModel",
          "state": {
            "_view_name": "LayoutView",
            "grid_template_rows": null,
            "right": null,
            "justify_content": null,
            "_view_module": "@jupyter-widgets/base",
            "overflow": null,
            "_model_module_version": "1.2.0",
            "_view_count": null,
            "flex_flow": null,
            "width": null,
            "min_width": null,
            "border": null,
            "align_items": null,
            "bottom": null,
            "_model_module": "@jupyter-widgets/base",
            "top": null,
            "grid_column": null,
            "overflow_y": null,
            "overflow_x": null,
            "grid_auto_flow": null,
            "grid_area": null,
            "grid_template_columns": null,
            "flex": null,
            "_model_name": "LayoutModel",
            "justify_items": null,
            "grid_row": null,
            "max_height": null,
            "align_content": null,
            "visibility": null,
            "align_self": null,
            "height": null,
            "min_height": null,
            "padding": null,
            "grid_auto_rows": null,
            "grid_gap": null,
            "max_width": null,
            "order": null,
            "_view_module_version": "1.2.0",
            "grid_template_areas": null,
            "object_position": null,
            "object_fit": null,
            "grid_auto_columns": null,
            "margin": null,
            "display": null,
            "left": null
          }
        }
      }
    }
  },
  "cells": [
    {
      "cell_type": "markdown",
      "metadata": {
        "id": "view-in-github"
      },
      "source": [
        "<a href=\"https://colab.research.google.com/github/HSE-LAMBDA/MLDM-2020/blob/master/day-08/MLDM_2020_seminar08_homework.ipynb\" target=\"_parent\"><img src=\"https://colab.research.google.com/assets/colab-badge.svg\" alt=\"Open In Colab\"/></a>"
      ]
    },
    {
      "cell_type": "code",
      "metadata": {
        "colab": {
          "base_uri": "https://localhost:8080/"
        },
        "id": "un3T_AERfRG4",
        "outputId": "db5c412b-27ab-47b2-f211-bb4bddee922e"
      },
      "source": [
        "import numpy as np\n",
        "import matplotlib.pyplot as plt\n",
        "import tensorflow as tf\n",
        "print(tf.__version__)"
      ],
      "execution_count": 5,
      "outputs": [
        {
          "output_type": "stream",
          "text": [
            "2.4.0\n"
          ],
          "name": "stdout"
        }
      ]
    },
    {
      "cell_type": "markdown",
      "metadata": {
        "id": "B6K2SAJdkQHm"
      },
      "source": [
        "# Task 1: maximum likelihood fit (3 points)"
      ]
    },
    {
      "cell_type": "markdown",
      "metadata": {
        "id": "wtzG5hC7SCvY"
      },
      "source": [
        "Let's generate a Gaussian mixture dataset and then fit its parameters with maximum likelihood."
      ]
    },
    {
      "cell_type": "code",
      "metadata": {
        "colab": {
          "base_uri": "https://localhost:8080/",
          "height": 265
        },
        "id": "VSYk9oqZLDvl",
        "outputId": "ebee0c2e-4582-4a70-89e0-c88f6d51317c"
      },
      "source": [
        "X1 = np.random.normal(size=1000, scale=0.3).astype('float32')\n",
        "X2 = np.random.normal(size=2000, loc=5., scale=2.).astype('float32')\n",
        "\n",
        "X = np.concatenate([X1, X2])\n",
        "np.random.shuffle(X)\n",
        "plt.hist(X, bins=200);"
      ],
      "execution_count": 6,
      "outputs": [
        {
          "output_type": "display_data",
          "data": {
            "image/png": "[encoded data removed]",
            "text/plain": [
              "<Figure size 432x288 with 1 Axes>"
            ]
          },
          "metadata": {
            "tags": [],
            "needs_background": "light"
          }
        }
      ]
    },
    {
      "cell_type": "markdown",
      "metadata": {
        "id": "XuMcBxMsg_VK"
      },
      "source": [
        "**Task**:\n",
        " - fill the gaps below to perform the max. likelihood fit with the pdf:\n",
        "$$\\text{PDF}(x|\\mu_1, \\sigma^2_1, \\mu_2, \\sigma^2_2, \\alpha)\n",
        "= \\alpha\\cdot\\mathscr{N}(x|\\mu_1, \\sigma_1^2) + (1 - \\alpha)\\cdot\\mathscr{N}(x|\\mu_2, \\sigma_2^2)$$\n",
        " - what the fitted values of $\\mu_1, \\sigma^2_1, \\mu_2, \\sigma^2_2$ and $\\alpha$ should be? does your fit converge to them?"
      ]
    },
    {
      "cell_type": "code",
      "metadata": {
        "id": "V0elCyrHLCdN",
        "colab": {
          "base_uri": "https://localhost:8080/",
          "height": 371
        },
        "outputId": "73f6e68b-4a93-46d1-e904-ecc625cd27c0"
      },
      "source": [
        "from IPython.display import clear_output\n",
        "import math\n",
        "import random\n",
        "\n",
        "\n",
        "# Defining Gaussian PDF using tf functions\n",
        "def gaussian(x, mu, stdev):\n",
        "  return tf.exp(-1/2 * (x - mu)**2 / stdev**2) / (tf.math.sqrt(2*tf.constant(math.pi))*stdev) \n",
        "  # use tf.exp for the exponent, don't forget the normalization\n",
        "\n",
        "# Arbitrary mixture PDF\n",
        "def mixture(x, f1, f2, alpha):\n",
        "  return alpha * f1(x) + (1. - alpha) * f2(x)\n",
        "\n",
        "# Parameters that we'd like to infer (with an initial guess)\n",
        "m1    = tf.Variable(0.3)\n",
        "m2    = tf.Variable(4.7)\n",
        "s1    = tf.Variable(0.9)\n",
        "s2    = tf.Variable(2.6)\n",
        "alpha = tf.Variable(0.4)\n",
        "\n",
        "# At each gradient update we'll apply this function to\n",
        "# ensure valid parameter values\n",
        "def apply_constraints():\n",
        "  if s1 <= 0.001:\n",
        "    s1.assign(0.001)\n",
        "  if s2 <= 0.001:\n",
        "    s2.assign(0.001)\n",
        "  if alpha < 0:\n",
        "    alpha.assign(0.001)\n",
        "  if alpha > 1:\n",
        "    alpha.assign(0.999)\n",
        "\n",
        "      # ensure the sigmas are positive (greater or equal to some small\n",
        "      # positive number, e.g. 1e-5) and alpha is in (0, 1) interval\n",
        "      # hint: use the `assign` method to update the variable values\n",
        "\n",
        "\n",
        "variables = [m1, m2, s1, s2, alpha]\n",
        "#print(variables)\n",
        "\n",
        "# Defining the overall PDF\n",
        "def model_pdf(x):\n",
        "  return mixture(x,\n",
        "                 lambda t: gaussian(t, m1, s1),\n",
        "                 lambda t: gaussian(t, m2, s2),\n",
        "                 alpha)\n",
        "\n",
        "# Log likelihood\n",
        "def loglike(x):\n",
        "  return -tf.math.log(model_pdf(x)) # hint: the logarithm is in tf.math.log\n",
        "\n",
        "learning_rate = 0.0001\n",
        "grad_history = [] # to keep track of gradient values at different steps\n",
        "\n",
        "\n",
        "for i in range(40):\n",
        "  with tf.GradientTape() as t:\n",
        "    # NOTE: if `variable` was created with `trainable=False`, you need to\n",
        "    # manually add it to the tape by calling `t.watch(variable)`. By default\n",
        "    # the variable are created with `trainable=True`\n",
        "\n",
        "    # Forward pass:\n",
        "    l = loglike(X)\n",
        "  \n",
        "\n",
        "  # Backprop:\n",
        "  grads = t.gradient(l, variables) # Calculate the gradients\n",
        "  grad_history.append([g.numpy() for g in grads])\n",
        "  \n",
        "  # Gradient ascent step:\n",
        "              # Apply the gradients manually (add\n",
        "              # `learning_rate * corresponding_gradient` to\n",
        "              # each variable)\n",
        "  for i in range(len(grads)):\n",
        "    variables[i].assign(variables[i] - learning_rate * grads[i])\n",
        "\n",
        "  apply_constraints()\n",
        "\n",
        "  # Do some plotting\n",
        "  plt.figure(figsize=(12, 5))\n",
        "\n",
        "  plt.subplot(1, 2, 1)\n",
        "  plt.hist(X, bins=200, density=True, label='data')\n",
        "  x_grid = np.linspace(-2, 12, 150)\n",
        "  plt.plot(x_grid, model_pdf(x_grid), label='fit')\n",
        "  plt.legend()\n",
        "  plt.xlabel('X')\n",
        "\n",
        "  plt.subplot(1, 2, 2)\n",
        "  lines = plt.plot(np.array(grad_history))\n",
        "  low = min(grad_history[-1])\n",
        "  high = max(grad_history[-1])\n",
        "  plt.ylim(low  - (high - low) * 0.6,\n",
        "           high + (high - low) * 0.6)\n",
        "  plt.legend(lines, ['m1', 'm2', 's1', 's2', 'alpha'])\n",
        "  plt.xlabel('step')\n",
        "  plt.ylabel('gradient')\n",
        "  plt.show()\n",
        "  print(variables)\n",
        "  clear_output(wait=True);"
      ],
      "execution_count": 7,
      "outputs": [
        {
          "output_type": "display_data",
          "data": {
            "image/png": "[encoded data removed]",
            "text/plain": [
              "<Figure size 864x360 with 2 Axes>"
            ]
          },
          "metadata": {
            "tags": [],
            "needs_background": "light"
          }
        },
        {
          "output_type": "stream",
          "text": [
            "[<tf.Variable 'Variable:0' shape=() dtype=float32, numpy=-0.005519535>, <tf.Variable 'Variable:0' shape=() dtype=float32, numpy=4.9287243>, <tf.Variable 'Variable:0' shape=() dtype=float32, numpy=0.28196117>, <tf.Variable 'Variable:0' shape=() dtype=float32, numpy=2.0592113>, <tf.Variable 'Variable:0' shape=() dtype=float32, numpy=0.331785>]\n"
          ],
          "name": "stdout"
        }
      ]
    },
    {
      "cell_type": "markdown",
      "metadata": {
        "id": "fq21-H_1jS1n"
      },
      "source": [
        "# Task 2: classifying clothes (3 points)"
      ]
    },
    {
      "cell_type": "code",
      "metadata": {
        "id": "BphdyxaWjbWp",
        "colab": {
          "base_uri": "https://localhost:8080/",
          "height": 763,
          "referenced_widgets": [
            "70fd29db425f4a788e58aa2049e7ce24",
            "fdc76fe7886a4cd499ba541869d8efa2",
            "f0310240d5cd445ca65ddf175faba762",
            "30ed66726bf44753b92414c5d5d04024",
            "821d96b1f0014d46bb1ca0dd918602f7",
            "18989661c8004a36b292660ae091d0eb",
            "7abf33d1b5da4e38bfc54e5416c08fe9",
            "963464c2a7ee4ff6867922ea18c0626d",
            "3d0209c952f24ff3962f4992bf5b4d0a",
            "48d846ed97c34491b015472d14641020",
            "ae0adcaa1d654cdc9944515ec5fefaf3",
            "c3367af346074cc8bc131083a232e9cb",
            "130772f716de4fc992df113066670caa",
            "3f01921c10ce417c8847988a75795a2c",
            "72b428e1e8624c19975b0fa0c5fefb49",
            "e756e36413314216bfbcfabcb581fddf",
            "e5fa8ee1e6824839b759f14e90004008",
            "7ca486fc4cd04821b25a6cbdc3c97919",
            "9098dbbaa2214d2d82a41531bc03d7d2",
            "3e9238cb2cb64181bce6f8dcbc338dc8",
            "622058a3477d440a86696106c291705d",
            "e872bb97ef5e4d9bba43495e1080dc42",
            "2159a2eedc954e14870830fa03f7e012",
            "69f8ece165c14af1ad1874f627f80622",
            "84c18ec1996c4dc79d8b5c45a831df4b",
            "0e7ef86f0e76467da264470b63208dcb",
            "2a9dab05408f4c50ba5354ad99d51c41",
            "e45856cf936d4eaf85f9843aef2f31a8",
            "7a4d8a99b1ec4040b889ef7de756594f",
            "7494196c44824f5f9705e8b61375b493",
            "9a433f492fc441618f0a06f84104722a",
            "f53664ecfdc94440bbdc50bfd963167f",
            "5afa30f122ed47dcaa5e29681911dd35",
            "daf89b93838a4f418b4afc47d742e2f6",
            "b7c900d5a03f4e90b332e5e8558dade1",
            "dc5e2a0b56194765a18b82f66015d8dc",
            "5a6413f7e03d4ecf968c419d4a8f8fcb",
            "5ad72533fd1b4797bf22d82f98a665f1",
            "8fadc6e424e3489c89c88136a1c939a9",
            "9070658245ca43b9a05e1b2ff8e0b16f",
            "b835092680be405bb6c681fda117473f",
            "e6ad63b168d74cd183c97cae533d6eec",
            "50a92a4bb6344ef1ad5064a8d24ef5cb",
            "e19be94f91c64240a584542fdf768093",
            "44a2aa0db89b41639d6454f193d77f24",
            "1a0bc6e34cd74c5cb49ff581e7dd8bb0",
            "50062ae684914ec999b7e095fc8ca143",
            "76bbe11342964258839ce886e5ec1e8a",
            "efc0d37b69614f12a84903ff332567c8",
            "06ad1dad50bf43e3932d0d58755c649d",
            "7a7b72a465ae4d9786f3c602ce8415d1",
            "ba25a9a0037c4bb4b9a3f9a51dd884f6",
            "80facfa8540f4832995e09de836df53c",
            "c8cd11e2b79443b88e7532cafcc746e6",
            "4ff18e13fa5347d08eb1e70bb8d765bb",
            "d7eb8dc9f79341a9801b93b6d1abeb5d"
          ]
        },
        "outputId": "93a5245b-2d8b-4002-c5a7-cf2db447b121"
      },
      "source": [
        "import tensorflow_datasets as tfds\n",
        "\n",
        "data_train = tfds.load(name=\"fashion_mnist\", split=\"train\").prefetch(60000).cache()\n",
        "data_test  = tfds.load(name=\"fashion_mnist\", split=\"test\" ).prefetch(10000).cache()\n",
        "\n",
        "# Array for decoding the categories\n",
        "label_names = np.array(['T-shirt/top',\n",
        "                        'Trouser',\n",
        "                        'Pullover',\n",
        "                        'Dress',\n",
        "                        'Coat',\n",
        "                        'Sandal',\n",
        "                        'Shirt',\n",
        "                        'Sneaker',\n",
        "                        'Bag',\n",
        "                        'Ankle boot'])\n",
        "\n",
        "# Get a single data batch of 25 images\n",
        "sample_data = next(iter(data_train.batch(25)))\n",
        "sample_images = sample_data['image']\n",
        "sample_labels = sample_data['label']\n",
        "\n",
        "# Plot the images in a 5x5 grid\n",
        "plt.figure(figsize=(5, 5))\n",
        "plt.imshow(\n",
        "    sample_images.numpy().reshape(5, 5, 28, 28).transpose((0, 2, 1, 3)).reshape(140, 140),\n",
        "    cmap='gray'\n",
        ")\n",
        "# Print corresponding labels\n",
        "print(label_names[sample_labels.numpy().reshape(5, 5)])"
      ],
      "execution_count": 8,
      "outputs": [
        {
          "output_type": "stream",
          "text": [
            "\u001b[1mDownloading and preparing dataset fashion_mnist/3.0.1 (download: 29.45 MiB, generated: 36.42 MiB, total: 65.87 MiB) to /root/tensorflow_datasets/fashion_mnist/3.0.1...\u001b[0m\n"
          ],
          "name": "stdout"
        },
        {
          "output_type": "display_data",
          "data": {
            "application/vnd.jupyter.widget-view+json": {
              "model_id": "70fd29db425f4a788e58aa2049e7ce24",
              "version_minor": 0,
              "version_major": 2
            },
            "text/plain": [
              "HBox(children=(FloatProgress(value=1.0, bar_style='info', description='Dl Completed...', max=1.0, style=Progre…"
            ]
          },
          "metadata": {
            "tags": []
          }
        },
        {
          "output_type": "display_data",
          "data": {
            "application/vnd.jupyter.widget-view+json": {
              "model_id": "3d0209c952f24ff3962f4992bf5b4d0a",
              "version_minor": 0,
              "version_major": 2
            },
            "text/plain": [
              "HBox(children=(FloatProgress(value=1.0, bar_style='info', description='Dl Size...', max=1.0, style=ProgressSty…"
            ]
          },
          "metadata": {
            "tags": []
          }
        },
        {
          "output_type": "display_data",
          "data": {
            "application/vnd.jupyter.widget-view+json": {
              "model_id": "e5fa8ee1e6824839b759f14e90004008",
              "version_minor": 0,
              "version_major": 2
            },
            "text/plain": [
              "HBox(children=(FloatProgress(value=1.0, bar_style='info', description='Extraction completed...', max=1.0, styl…"
            ]
          },
          "metadata": {
            "tags": []
          }
        },
        {
          "output_type": "stream",
          "text": [
            "\n",
            "\n",
            "\n",
            "\n",
            "\n",
            "\n"
          ],
          "name": "stdout"
        },
        {
          "output_type": "display_data",
          "data": {
            "application/vnd.jupyter.widget-view+json": {
              "model_id": "84c18ec1996c4dc79d8b5c45a831df4b",
              "version_minor": 0,
              "version_major": 2
            },
            "text/plain": [
              "HBox(children=(FloatProgress(value=1.0, bar_style='info', max=1.0), HTML(value='')))"
            ]
          },
          "metadata": {
            "tags": []
          }
        },
        {
          "output_type": "stream",
          "text": [
            "\rShuffling and writing examples to /root/tensorflow_datasets/fashion_mnist/3.0.1.incompleteZY8HGO/fashion_mnist-train.tfrecord\n"
          ],
          "name": "stdout"
        },
        {
          "output_type": "display_data",
          "data": {
            "application/vnd.jupyter.widget-view+json": {
              "model_id": "5afa30f122ed47dcaa5e29681911dd35",
              "version_minor": 0,
              "version_major": 2
            },
            "text/plain": [
              "HBox(children=(FloatProgress(value=0.0, max=60000.0), HTML(value='')))"
            ]
          },
          "metadata": {
            "tags": []
          }
        },
        {
          "output_type": "stream",
          "text": [
            "\r"
          ],
          "name": "stdout"
        },
        {
          "output_type": "display_data",
          "data": {
            "application/vnd.jupyter.widget-view+json": {
              "model_id": "b835092680be405bb6c681fda117473f",
              "version_minor": 0,
              "version_major": 2
            },
            "text/plain": [
              "HBox(children=(FloatProgress(value=1.0, bar_style='info', max=1.0), HTML(value='')))"
            ]
          },
          "metadata": {
            "tags": []
          }
        },
        {
          "output_type": "stream",
          "text": [
            "\rShuffling and writing examples to /root/tensorflow_datasets/fashion_mnist/3.0.1.incompleteZY8HGO/fashion_mnist-test.tfrecord\n"
          ],
          "name": "stdout"
        },
        {
          "output_type": "display_data",
          "data": {
            "application/vnd.jupyter.widget-view+json": {
              "model_id": "efc0d37b69614f12a84903ff332567c8",
              "version_minor": 0,
              "version_major": 2
            },
            "text/plain": [
              "HBox(children=(FloatProgress(value=0.0, max=10000.0), HTML(value='')))"
            ]
          },
          "metadata": {
            "tags": []
          }
        },
        {
          "output_type": "stream",
          "text": [
            "\u001b[1mDataset fashion_mnist downloaded and prepared to /root/tensorflow_datasets/fashion_mnist/3.0.1. Subsequent calls will reuse this data.\u001b[0m\n",
            "\r[['Pullover' 'Trouser' 'Bag' 'Coat' 'Trouser']\n",
            " ['Ankle boot' 'Pullover' 'Pullover' 'T-shirt/top' 'Pullover']\n",
            " ['Shirt' 'Ankle boot' 'T-shirt/top' 'Sneaker' 'Sandal']\n",
            " ['Coat' 'T-shirt/top' 'Trouser' 'Bag' 'T-shirt/top']\n",
            " ['Coat' 'Pullover' 'Shirt' 'Sneaker' 'T-shirt/top']]\n"
          ],
          "name": "stdout"
        },
        {
          "output_type": "display_data",
          "data": {
            "image/png": "[encoded data removed]",
            "text/plain": [
              "<Figure size 360x360 with 1 Axes>"
            ]
          },
          "metadata": {
            "tags": [],
            "needs_background": "light"
          }
        }
      ]
    },
    {
      "cell_type": "markdown",
      "metadata": {
        "id": "r0JFRf1GltTC"
      },
      "source": [
        "**Task**:\n",
        "\n",
        "Train a model which is an average of two models with different numbers of layers on the Fashion MNIST dataset, e.g.:"
      ]
    },
    {
      "cell_type": "markdown",
      "metadata": {
        "id": "3HsA91a3o6A_"
      },
      "source": [
        "![image.png](data:image/png;base64,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)"
      ]
    },
    {
      "cell_type": "markdown",
      "metadata": {
        "id": "Y2rZ7Txqo_A8"
      },
      "source": [
        "You can:\n",
        " - either use low-level API for that (still using `tf.keras.Sequential` models as building blocks)\n",
        " - or use `tf.keras.Model` for an arbitrary model (see examples from https://www.tensorflow.org/api_docs/python/tf/keras/Model)"
      ]
    },
    {
      "cell_type": "code",
      "metadata": {
        "id": "s7LZPCA0wctI"
      },
      "source": [
        "train = next(iter(data_train.batch(60000)))\n",
        "test = next(iter(data_train.batch(10000)))\n",
        "\n",
        "train_X = train['image']\n",
        "train_y = train['label']\n",
        "test_X = test['image']\n",
        "test_y = test['label']\n"
      ],
      "execution_count": 9,
      "outputs": []
    },
    {
      "cell_type": "code",
      "metadata": {
        "colab": {
          "base_uri": "https://localhost:8080/",
          "height": 564
        },
        "id": "oLkqLqE2wctJ",
        "outputId": "3c784b8a-64ae-48ca-d523-66a17e3c0995"
      },
      "source": [
        "inputs = tf.keras.Input(shape=(28,28))\n",
        "\n",
        "x = tf.keras.layers.Flatten()(inputs)\n",
        "x = tf.keras.layers.Dense(64, activation = 'relu')(x)\n",
        "x = tf.keras.layers.Dense(32, activation = 'relu')(x)\n",
        "x = tf.keras.layers.Dense(10)(x)\n",
        "\n",
        "y = tf.keras.layers.Flatten()(inputs)\n",
        "y = tf.keras.layers.Dense(32, activation = 'relu')(y)\n",
        "y = tf.keras.layers.Dense(10)(y)\n",
        "\n",
        "outputs =  tf.keras.layers.Average()([x, y])\n",
        "\n",
        "model = tf.keras.Model(inputs=inputs, outputs=outputs)\n",
        "\n",
        "tf.keras.utils.plot_model(model, \"my_first_model.png\")\n"
      ],
      "execution_count": 16,
      "outputs": [
        {
          "output_type": "execute_result",
          "data": {
            "image/png": "[encoded data removed]",
            "text/plain": [
              "<IPython.core.display.Image object>"
            ]
          },
          "metadata": {
            "tags": []
          },
          "execution_count": 16
        }
      ]
    },
    {
      "cell_type": "code",
      "metadata": {
        "colab": {
          "base_uri": "https://localhost:8080/"
        },
        "id": "OqossCedwOnG",
        "outputId": "43fb0d92-53ff-4d86-98e1-96818f896f9c"
      },
      "source": [
        "model.summary()"
      ],
      "execution_count": 17,
      "outputs": [
        {
          "output_type": "stream",
          "text": [
            "Model: \"model_1\"\n",
            "__________________________________________________________________________________________________\n",
            "Layer (type)                    Output Shape         Param #     Connected to                     \n",
            "==================================================================================================\n",
            "input_2 (InputLayer)            [(None, 28, 28)]     0                                            \n",
            "__________________________________________________________________________________________________\n",
            "flatten_2 (Flatten)             (None, 784)          0           input_2[0][0]                    \n",
            "__________________________________________________________________________________________________\n",
            "dense_5 (Dense)                 (None, 64)           50240       flatten_2[0][0]                  \n",
            "__________________________________________________________________________________________________\n",
            "flatten_3 (Flatten)             (None, 784)          0           input_2[0][0]                    \n",
            "__________________________________________________________________________________________________\n",
            "dense_6 (Dense)                 (None, 32)           2080        dense_5[0][0]                    \n",
            "__________________________________________________________________________________________________\n",
            "dense_8 (Dense)                 (None, 32)           25120       flatten_3[0][0]                  \n",
            "__________________________________________________________________________________________________\n",
            "dense_7 (Dense)                 (None, 10)           330         dense_6[0][0]                    \n",
            "__________________________________________________________________________________________________\n",
            "dense_9 (Dense)                 (None, 10)           330         dense_8[0][0]                    \n",
            "__________________________________________________________________________________________________\n",
            "average_1 (Average)             (None, 10)           0           dense_7[0][0]                    \n",
            "                                                                 dense_9[0][0]                    \n",
            "==================================================================================================\n",
            "Total params: 78,100\n",
            "Trainable params: 78,100\n",
            "Non-trainable params: 0\n",
            "__________________________________________________________________________________________________\n"
          ],
          "name": "stdout"
        }
      ]
    },
    {
      "cell_type": "code",
      "metadata": {
        "colab": {
          "base_uri": "https://localhost:8080/"
        },
        "id": "fGucusEwwctJ",
        "outputId": "22c0d146-e910-48cf-8fde-70515dab905f"
      },
      "source": [
        "predictions = model(sample_images).numpy()\n",
        "\n",
        "tf.nn.softmax(predictions).numpy()\n",
        "\n",
        "loss_fu = tf.keras.losses.SparseCategoricalCrossentropy(from_logits=True)\n",
        "loss_fu(sample_labels , predictions).numpy()"
      ],
      "execution_count": 11,
      "outputs": [
        {
          "output_type": "execute_result",
          "data": {
            "text/plain": [
              "104.28769"
            ]
          },
          "metadata": {
            "tags": []
          },
          "execution_count": 11
        }
      ]
    },
    {
      "cell_type": "code",
      "metadata": {
        "colab": {
          "base_uri": "https://localhost:8080/"
        },
        "id": "mxVw2D-mwctJ",
        "outputId": "02fbdcd1-33ef-4050-bd46-22a1dbfcb807"
      },
      "source": [
        "model.compile(optimizer='adam',\n",
        "              loss=loss_fu,\n",
        "              metrics=['accuracy'])\n",
        "\n",
        "model.fit(train_X, train_y, epochs=30)\n",
        "\n"
      ],
      "execution_count": 12,
      "outputs": [
        {
          "output_type": "stream",
          "text": [
            "Epoch 1/30\n",
            "1875/1875 [==============================] - 5s 2ms/step - loss: 5.1700 - accuracy: 0.7042\n",
            "Epoch 2/30\n",
            "1875/1875 [==============================] - 4s 2ms/step - loss: 0.5786 - accuracy: 0.8082\n",
            "Epoch 3/30\n",
            "1875/1875 [==============================] - 4s 2ms/step - loss: 0.5186 - accuracy: 0.8243\n",
            "Epoch 4/30\n",
            "1875/1875 [==============================] - 4s 2ms/step - loss: 0.4677 - accuracy: 0.8376\n",
            "Epoch 5/30\n",
            "1875/1875 [==============================] - 4s 2ms/step - loss: 0.4466 - accuracy: 0.8408\n",
            "Epoch 6/30\n",
            "1875/1875 [==============================] - 4s 2ms/step - loss: 0.4265 - accuracy: 0.8483\n",
            "Epoch 7/30\n",
            "1875/1875 [==============================] - 4s 2ms/step - loss: 0.4091 - accuracy: 0.8547\n",
            "Epoch 8/30\n",
            "1875/1875 [==============================] - 4s 2ms/step - loss: 0.3876 - accuracy: 0.8597\n",
            "Epoch 9/30\n",
            "1875/1875 [==============================] - 4s 2ms/step - loss: 0.3843 - accuracy: 0.8648\n",
            "Epoch 10/30\n",
            "1875/1875 [==============================] - 4s 2ms/step - loss: 0.3724 - accuracy: 0.8638\n",
            "Epoch 11/30\n",
            "1875/1875 [==============================] - 4s 2ms/step - loss: 0.3651 - accuracy: 0.8668\n",
            "Epoch 12/30\n",
            "1875/1875 [==============================] - 4s 2ms/step - loss: 0.3469 - accuracy: 0.8729\n",
            "Epoch 13/30\n",
            "1875/1875 [==============================] - 4s 2ms/step - loss: 0.3494 - accuracy: 0.8724\n",
            "Epoch 14/30\n",
            "1875/1875 [==============================] - 4s 2ms/step - loss: 0.3439 - accuracy: 0.8749\n",
            "Epoch 15/30\n",
            "1875/1875 [==============================] - 4s 2ms/step - loss: 0.3383 - accuracy: 0.8756\n",
            "Epoch 16/30\n",
            "1875/1875 [==============================] - 4s 2ms/step - loss: 0.3376 - accuracy: 0.8790\n",
            "Epoch 17/30\n",
            "1875/1875 [==============================] - 4s 2ms/step - loss: 0.3268 - accuracy: 0.8796\n",
            "Epoch 18/30\n",
            "1875/1875 [==============================] - 4s 2ms/step - loss: 0.3205 - accuracy: 0.8800\n",
            "Epoch 19/30\n",
            "1875/1875 [==============================] - 4s 2ms/step - loss: 0.3242 - accuracy: 0.8785\n",
            "Epoch 20/30\n",
            "1875/1875 [==============================] - 4s 2ms/step - loss: 0.3168 - accuracy: 0.8808\n",
            "Epoch 21/30\n",
            "1875/1875 [==============================] - 4s 2ms/step - loss: 0.3052 - accuracy: 0.8868\n",
            "Epoch 22/30\n",
            "1875/1875 [==============================] - 4s 2ms/step - loss: 0.3167 - accuracy: 0.8833\n",
            "Epoch 23/30\n",
            "1875/1875 [==============================] - 4s 2ms/step - loss: 0.3115 - accuracy: 0.8844\n",
            "Epoch 24/30\n",
            "1875/1875 [==============================] - 4s 2ms/step - loss: 0.3043 - accuracy: 0.8871\n",
            "Epoch 25/30\n",
            "1875/1875 [==============================] - 4s 2ms/step - loss: 0.3057 - accuracy: 0.8863\n",
            "Epoch 26/30\n",
            "1875/1875 [==============================] - 4s 2ms/step - loss: 0.3044 - accuracy: 0.8880\n",
            "Epoch 27/30\n",
            "1875/1875 [==============================] - 4s 2ms/step - loss: 0.3014 - accuracy: 0.8894\n",
            "Epoch 28/30\n",
            "1875/1875 [==============================] - 4s 2ms/step - loss: 0.3011 - accuracy: 0.8876\n",
            "Epoch 29/30\n",
            "1875/1875 [==============================] - 4s 2ms/step - loss: 0.3000 - accuracy: 0.8882\n",
            "Epoch 30/30\n",
            "1875/1875 [==============================] - 4s 2ms/step - loss: 0.3000 - accuracy: 0.8885\n"
          ],
          "name": "stdout"
        },
        {
          "output_type": "execute_result",
          "data": {
            "text/plain": [
              "<tensorflow.python.keras.callbacks.History at 0x7f6acd423ac8>"
            ]
          },
          "metadata": {
            "tags": []
          },
          "execution_count": 12
        }
      ]
    },
    {
      "cell_type": "code",
      "metadata": {
        "colab": {
          "base_uri": "https://localhost:8080/"
        },
        "id": "awx3L9YowctK",
        "outputId": "97fb78a2-4ed0-4f60-a8a2-9b9b2ac25feb"
      },
      "source": [
        "from sklearn.metrics import accuracy_score\n",
        "\n",
        "predictions = model(test_X).numpy()\n",
        "predict_classes = np.argmax(predictions, axis =1)\n",
        "\n",
        "loss_fu = tf.keras.losses.SparseCategoricalCrossentropy(from_logits=True)\n",
        "test_accuracy = accuracy_score(predict_classes, test_y)\n",
        "\n",
        "print('Test Loss: ',loss_fu(test_y , predictions).numpy())\n",
        "print('Test Accuracy: ' , test_accuracy)\n"
      ],
      "execution_count": 13,
      "outputs": [
        {
          "output_type": "stream",
          "text": [
            "Test Loss:  0.31634927\n",
            "Test Accuracy:  0.8865\n"
          ],
          "name": "stdout"
        }
      ]
    }
  ]
}
