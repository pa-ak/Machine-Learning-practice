{
 "cells": [
  {
   "cell_type": "code",
   "execution_count": 4,
   "metadata": {},
   "outputs": [],
   "source": [
    "import pandas\n",
    "import numpy as np\n",
    "from sklearn.neighbors.classification import KNeighborsClassifier\n",
    "from sklearn.model_selection import KFold\n",
    "from sklearn.model_selection import cross_val_score\n",
    "from sklearn.preprocessing import scale"
   ]
  },
  {
   "cell_type": "code",
   "execution_count": 5,
   "metadata": {
    "scrolled": true
   },
   "outputs": [
    {
     "name": "stdout",
     "output_type": "stream",
     "text": [
      "[[1.000e+00 1.423e+01 1.710e+00 ... 1.040e+00 3.920e+00 1.065e+03]\n",
      " [1.000e+00 1.320e+01 1.780e+00 ... 1.050e+00 3.400e+00 1.050e+03]\n",
      " [1.000e+00 1.316e+01 2.360e+00 ... 1.030e+00 3.170e+00 1.185e+03]\n",
      " ...\n",
      " [3.000e+00 1.327e+01 4.280e+00 ... 5.900e-01 1.560e+00 8.350e+02]\n",
      " [3.000e+00 1.317e+01 2.590e+00 ... 6.000e-01 1.620e+00 8.400e+02]\n",
      " [3.000e+00 1.413e+01 4.100e+00 ... 6.100e-01 1.600e+00 5.600e+02]]\n"
     ]
    }
   ],
   "source": [
    "data = np.genfromtxt('C:\\\\Users\\\\User\\\\Documents\\\\AI\\\\ML course\\\\wine.data', delimiter=',')\n",
    "y = data[:,0]\n",
    "x = data[:,1:]"
   ]
  },
  {
   "cell_type": "code",
   "execution_count": 6,
   "metadata": {
    "scrolled": true
   },
   "outputs": [
    {
     "name": "stdout",
     "output_type": "stream",
     "text": [
      "TRAIN: [  0   1   2   3   4   5   6   7   8  10  11  13  14  17  20  21  22  23\n",
      "  25  26  27  28  32  33  34  35  36  37  38  39  40  43  44  46  47  48\n",
      "  49  50  51  52  53  54  56  57  58  59  61  62  63  64  68  69  70  71\n",
      "  72  73  74  75  76  77  78  79  80  81  83  84  85  86  87  88  89  91\n",
      "  92  93  94  95  96  97  98  99 100 101 102 103 104 105 106 107 108 110\n",
      " 112 115 116 120 121 122 123 124 125 126 127 129 130 131 132 133 134 135\n",
      " 136 137 138 139 142 143 144 146 147 148 149 151 152 153 154 155 156 157\n",
      " 158 159 160 161 162 163 165 166 167 168 170 172 173 175 176 177] TEST: [  9  12  15  16  18  19  24  29  30  31  41  42  45  55  60  65  66  67\n",
      "  82  90 109 111 113 114 117 118 119 128 140 141 145 150 164 169 171 174]\n",
      "TRAIN: [  0   1   3   5   7   8   9  10  12  13  14  15  16  17  18  19  20  21\n",
      "  23  24  25  28  29  30  31  33  34  35  37  39  40  41  42  43  44  45\n",
      "  46  47  48  49  50  52  53  54  55  57  58  59  60  61  62  63  64  65\n",
      "  66  67  70  71  72  73  74  75  77  79  80  81  82  83  84  86  87  88\n",
      "  89  90  91  92  94  96  99 101 102 103 105 106 107 109 110 111 112 113\n",
      " 114 115 116 117 118 119 120 121 123 124 125 126 127 128 129 130 131 132\n",
      " 133 134 135 136 139 140 141 142 145 147 148 149 150 151 152 155 156 157\n",
      " 160 161 162 163 164 165 166 168 169 171 172 173 174 175 176 177] TEST: [  2   4   6  11  22  26  27  32  36  38  51  56  68  69  76  78  85  93\n",
      "  95  97  98 100 104 108 122 137 138 143 144 146 153 154 158 159 167 170]\n",
      "TRAIN: [  1   2   3   4   5   6   7   8   9  11  12  13  14  15  16  17  18  19\n",
      "  20  21  22  24  26  27  29  30  31  32  34  35  36  37  38  41  42  43\n",
      "  45  46  48  49  50  51  52  53  54  55  56  57  58  59  60  63  65  66\n",
      "  67  68  69  70  71  72  74  76  77  78  80  82  83  85  87  88  89  90\n",
      "  91  92  93  95  97  98  99 100 102 103 104 105 106 107 108 109 110 111\n",
      " 112 113 114 115 116 117 118 119 121 122 124 128 129 130 131 134 136 137\n",
      " 138 140 141 143 144 145 146 148 149 150 151 152 153 154 155 156 157 158\n",
      " 159 160 161 163 164 165 167 168 169 170 171 172 174 175 176 177] TEST: [  0  10  23  25  28  33  39  40  44  47  61  62  64  73  75  79  81  84\n",
      "  86  94  96 101 120 123 125 126 127 132 133 135 139 142 147 162 166 173]\n",
      "TRAIN: [  0   1   2   4   6   9  10  11  12  14  15  16  18  19  20  21  22  23\n",
      "  24  25  26  27  28  29  30  31  32  33  36  37  38  39  40  41  42  44\n",
      "  45  47  48  50  51  52  54  55  56  57  58  60  61  62  63  64  65  66\n",
      "  67  68  69  71  73  74  75  76  78  79  81  82  84  85  86  87  88  90\n",
      "  92  93  94  95  96  97  98  99 100 101 102 103 104 106 107 108 109 111\n",
      " 113 114 116 117 118 119 120 121 122 123 125 126 127 128 129 130 132 133\n",
      " 135 137 138 139 140 141 142 143 144 145 146 147 148 149 150 151 153 154\n",
      " 157 158 159 162 163 164 166 167 168 169 170 171 172 173 174 175 177] TEST: [  3   5   7   8  13  17  34  35  43  46  49  53  59  70  72  77  80  83\n",
      "  89  91 105 110 112 115 124 131 134 136 152 155 156 160 161 165 176]\n",
      "TRAIN: [  0   2   3   4   5   6   7   8   9  10  11  12  13  15  16  17  18  19\n",
      "  22  23  24  25  26  27  28  29  30  31  32  33  34  35  36  38  39  40\n",
      "  41  42  43  44  45  46  47  49  51  53  55  56  59  60  61  62  64  65\n",
      "  66  67  68  69  70  72  73  75  76  77  78  79  80  81  82  83  84  85\n",
      "  86  89  90  91  93  94  95  96  97  98 100 101 104 105 108 109 110 111\n",
      " 112 113 114 115 117 118 119 120 122 123 124 125 126 127 128 131 132 133\n",
      " 134 135 136 137 138 139 140 141 142 143 144 145 146 147 150 152 153 154\n",
      " 155 156 158 159 160 161 162 164 165 166 167 169 170 171 173 174 176] TEST: [  1  14  20  21  37  48  50  52  54  57  58  63  71  74  87  88  92  99\n",
      " 102 103 106 107 116 121 129 130 148 149 151 157 163 168 172 175 177]\n"
     ]
    }
   ],
   "source": [
    "kf = KFold(n_splits = 5, shuffle = True, random_state = 42)\n",
    "\n",
    "for train_index, test_index in kf.split(x):\n",
    "    print('TRAIN:', train_index, 'TEST:', test_index)\n",
    "    x_train, x_test = x[train_index], x[test_index]\n",
    "    y_train, y_test = y[train_index], y[test_index]"
   ]
  },
  {
   "cell_type": "code",
   "execution_count": 37,
   "metadata": {},
   "outputs": [],
   "source": [
    "from sklearn.preprocessing import normalize"
   ]
  },
  {
   "cell_type": "code",
   "execution_count": 43,
   "metadata": {},
   "outputs": [
    {
     "name": "stdout",
     "output_type": "stream",
     "text": [
      "1 0.7304761904761905\n"
     ]
    }
   ],
   "source": [
    "num = 0 \n",
    "max_cvs = 0\n",
    "\n",
    "for k in range(1,51): \n",
    "    neigh = KNeighborsClassifier(n_neighbors=k) \n",
    "    cvs = cross_val_score(neigh, x, y, cv=kf, scoring='accuracy') \n",
    "    if np.mean(cvs) > max_cvs: \n",
    "        max_cvs = np.mean(cvs) \n",
    "        num = k\n",
    "\n",
    "print (num, max_cvs)"
   ]
  },
  {
   "cell_type": "code",
   "execution_count": 47,
   "metadata": {
    "scrolled": true
   },
   "outputs": [],
   "source": [
    "\n",
    "\n",
    "x2 = scale(x, axis = 0, with_mean=True, with_std=True, copy=True)"
   ]
  },
  {
   "cell_type": "code",
   "execution_count": 48,
   "metadata": {},
   "outputs": [
    {
     "name": "stdout",
     "output_type": "stream",
     "text": [
      "29 0.9776190476190475\n"
     ]
    }
   ],
   "source": [
    "for k in range(1,51): \n",
    "    neigh = KNeighborsClassifier(n_neighbors=k) \n",
    "    cvs = cross_val_score(neigh, x2, y, cv=kf, scoring='accuracy') \n",
    "    if np.mean(cvs) > max_cvs: \n",
    "        max_cvs = np.mean(cvs) \n",
    "        num = k\n",
    "\n",
    "print (num, max_cvs)"
   ]
  },
  {
   "cell_type": "code",
   "execution_count": null,
   "metadata": {},
   "outputs": [],
   "source": []
  }
 ],
 "metadata": {
  "kernelspec": {
   "display_name": "Python 3",
   "language": "python",
   "name": "python3"
  },
  "language_info": {
   "codemirror_mode": {
    "name": "ipython",
    "version": 3
   },
   "file_extension": ".py",
   "mimetype": "text/x-python",
   "name": "python",
   "nbconvert_exporter": "python",
   "pygments_lexer": "ipython3",
   "version": "3.7.4"
  }
 },
 "nbformat": 4,
 "nbformat_minor": 2
}
