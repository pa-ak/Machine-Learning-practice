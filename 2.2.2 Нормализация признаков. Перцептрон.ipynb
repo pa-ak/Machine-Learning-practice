{
 "cells": [
  {
   "cell_type": "code",
   "execution_count": 1,
   "metadata": {},
   "outputs": [],
   "source": [
    "import pandas as pd\n",
    "import numpy as np\n",
    "import sklearn\n",
    "\n",
    "# import data from file into dataframe\n",
    "\n",
    "train_data = pd.read_csv('C:\\\\Users\\\\User\\\\Documents\\\\AI\\\\ML course\\\\2.2 Нормализация признаков. Перцептрон\\\\perceptron-train.csv', header = None)\n",
    "test_data = pd.read_csv('C:\\\\Users\\\\User\\\\Documents\\\\AI\\\\ML course\\\\2.2 Нормализация признаков. Перцептрон\\\\perceptron-test.csv', header = None)\n",
    "\n"
   ]
  },
  {
   "cell_type": "code",
   "execution_count": 2,
   "metadata": {},
   "outputs": [
    {
     "data": {
      "text/html": [
       "<div>\n",
       "<style scoped>\n",
       "    .dataframe tbody tr th:only-of-type {\n",
       "        vertical-align: middle;\n",
       "    }\n",
       "\n",
       "    .dataframe tbody tr th {\n",
       "        vertical-align: top;\n",
       "    }\n",
       "\n",
       "    .dataframe thead th {\n",
       "        text-align: right;\n",
       "    }\n",
       "</style>\n",
       "<table border=\"1\" class=\"dataframe\">\n",
       "  <thead>\n",
       "    <tr style=\"text-align: right;\">\n",
       "      <th></th>\n",
       "      <th>0</th>\n",
       "      <th>1</th>\n",
       "      <th>2</th>\n",
       "    </tr>\n",
       "  </thead>\n",
       "  <tbody>\n",
       "    <tr>\n",
       "      <td>1</td>\n",
       "      <td>1.0</td>\n",
       "      <td>-0.978058</td>\n",
       "      <td>1083.198803</td>\n",
       "    </tr>\n",
       "    <tr>\n",
       "      <td>2</td>\n",
       "      <td>-1.0</td>\n",
       "      <td>0.314272</td>\n",
       "      <td>-1472.977609</td>\n",
       "    </tr>\n",
       "  </tbody>\n",
       "</table>\n",
       "</div>"
      ],
      "text/plain": [
       "     0         1            2\n",
       "1  1.0 -0.978058  1083.198803\n",
       "2 -1.0  0.314272 -1472.977609"
      ]
     },
     "execution_count": 2,
     "metadata": {},
     "output_type": "execute_result"
    }
   ],
   "source": [
    "train_data[1:3] # — первыми он вычленяет строки, а вторыми колонки. В этом и была проблема с экспортом колонок"
   ]
  },
  {
   "cell_type": "code",
   "execution_count": 2,
   "metadata": {},
   "outputs": [],
   "source": [
    "# load specific columns into new dataframes \n",
    "\n",
    "y_train = train_data[[0]]\n",
    "x_train = train_data[[1,2]]\n",
    "\n",
    "y_test = test_data[[0]]\n",
    "x_test = test_data[[1,2]]\n"
   ]
  },
  {
   "cell_type": "code",
   "execution_count": 3,
   "metadata": {},
   "outputs": [],
   "source": [
    "# Как и в случае с метрическими методами, качество линейных алгоритмов зависит от некоторых свойств данных. \n",
    "# В частности, признаки должны быть нормализованы, то есть иметь одинаковый масштаб. \n",
    "# Если это не так, и масштаб одного признака сильно превосходит масштаб других, то качество может резко упасть.\n",
    "\n",
    "# Один из способов нормализации заключается в стандартизации признаков. \n",
    "# Для этого берется набор значений признака на всех объектах, вычисляется их среднее значение и стандартное отклонение. \n",
    "# После этого из всех значений признака вычитается среднее, и затем полученная разность делится на стандартное отклонение."
   ]
  },
  {
   "cell_type": "code",
   "execution_count": 3,
   "metadata": {},
   "outputs": [],
   "source": [
    "from sklearn.linear_model import Perceptron\n",
    "from sklearn.metrics import accuracy_score\n",
    "\n",
    "# обучение производится с помощью функции fit\n",
    "# построение прогнозов — с помощью функции predict.\n",
    "\n",
    "# train the Perceptron on the train data\n",
    "\n",
    "X = np.array(x_train)\n",
    "y = np.array(y_train)\n",
    "y = np.ravel(y, order='C') # because 'DataConversionWarning: A column-vector y was passed when a 1d array was expected. \n",
    "                        # Please change the shape of y to (n_samples, ), for example using ravel(). y = column_or_1d(y, warn=True)'\n",
    "\n",
    "clf = Perceptron(random_state=241, max_iter=5, tol=None) # to add the last 2 params was recommended on Coursera discussion forum https://bit.ly/2CXDHIK \n",
    "clf.fit(X, y)\n",
    "\n",
    "X2 = np.array(x_test)\n",
    "y2 = np.array(y_test)\n",
    "y2 = np.ravel(y2, order='C')\n",
    "\n",
    "predictions = clf.predict(X2)"
   ]
  },
  {
   "cell_type": "code",
   "execution_count": 4,
   "metadata": {},
   "outputs": [
    {
     "data": {
      "text/plain": [
       "0.655"
      ]
     },
     "execution_count": 4,
     "metadata": {},
     "output_type": "execute_result"
    }
   ],
   "source": [
    "# check the accuracy on the test set\n",
    "\n",
    "accuracy_score(y2, predictions)"
   ]
  },
  {
   "cell_type": "code",
   "execution_count": 7,
   "metadata": {},
   "outputs": [],
   "source": [
    "# !!! THE MAIN THING — train Perceptron on train data, but make predictions and accuracy_score on TEST data"
   ]
  },
  {
   "cell_type": "code",
   "execution_count": 5,
   "metadata": {},
   "outputs": [],
   "source": [
    "# Now let's normalize features — X_train and X_test — by standartizing them\n",
    "\n",
    "from sklearn.preprocessing import StandardScaler\n",
    "\n",
    "scaler = StandardScaler()\n",
    "X_train = np.array(x_train)\n",
    "X_test = np.array(x_test)\n",
    "X_train_scaled = scaler.fit_transform(X_train)\n",
    "X_test_scaled = scaler.transform(X_test)\n",
    "\n",
    "# and then train our Perceptron on the new standartized Train set\n",
    "\n",
    "X_scaled = np.array(X_train_scaled)\n",
    "y_scaled = np.array(y_train)\n",
    "y_scaled = np.ravel(y_scaled, order='C')\n",
    "\n",
    "clf.fit(X_scaled, y_scaled)\n",
    "\n",
    "# Then make precictions on the standartized Test set\n",
    "\n",
    "X_scaled2 = np.array(X_test_scaled)\n",
    "y_scaled2 = np.array(y_test)\n",
    "y_scaled2 = np.ravel(y_scaled2, order='C')\n",
    "\n",
    "predictions_scaled = clf.predict(X_scaled2)"
   ]
  },
  {
   "cell_type": "code",
   "execution_count": 6,
   "metadata": {},
   "outputs": [
    {
     "data": {
      "text/plain": [
       "0.84"
      ]
     },
     "execution_count": 6,
     "metadata": {},
     "output_type": "execute_result"
    }
   ],
   "source": [
    "# and check the accuracy again on the standartized test set \n",
    "\n",
    "accuracy_score(y_scaled2, predictions_scaled)"
   ]
  },
  {
   "cell_type": "code",
   "execution_count": 7,
   "metadata": {},
   "outputs": [
    {
     "name": "stdout",
     "output_type": "stream",
     "text": [
      "0.18499999999999994\n"
     ]
    },
    {
     "data": {
      "text/plain": [
       "0.185"
      ]
     },
     "execution_count": 7,
     "metadata": {},
     "output_type": "execute_result"
    }
   ],
   "source": [
    "# and we're coming to the final answer \n",
    "\n",
    "import math\n",
    "from math import ceil, floor\n",
    "\n",
    "def float_round(num, places = 0, direction = floor):\n",
    "    return direction(num * (10**places)) / float(10**places)\n",
    "\n",
    "final = accuracy_score(y_scaled2, predictions_scaled) - accuracy_score(y2, predictions)\n",
    "print(final)\n",
    "\n",
    "float_round(final, 3, ceil)"
   ]
  },
  {
   "cell_type": "code",
   "execution_count": null,
   "metadata": {},
   "outputs": [],
   "source": []
  },
  {
   "cell_type": "code",
   "execution_count": null,
   "metadata": {},
   "outputs": [],
   "source": []
  },
  {
   "cell_type": "code",
   "execution_count": null,
   "metadata": {},
   "outputs": [],
   "source": []
  },
  {
   "cell_type": "code",
   "execution_count": null,
   "metadata": {},
   "outputs": [],
   "source": []
  },
  {
   "cell_type": "code",
   "execution_count": null,
   "metadata": {},
   "outputs": [],
   "source": []
  },
  {
   "cell_type": "code",
   "execution_count": null,
   "metadata": {},
   "outputs": [],
   "source": []
  }
 ],
 "metadata": {
  "kernelspec": {
   "display_name": "Python 3",
   "language": "python",
   "name": "python3"
  },
  "language_info": {
   "codemirror_mode": {
    "name": "ipython",
    "version": 3
   },
   "file_extension": ".py",
   "mimetype": "text/x-python",
   "name": "python",
   "nbconvert_exporter": "python",
   "pygments_lexer": "ipython3",
   "version": "3.7.4"
  }
 },
 "nbformat": 4,
 "nbformat_minor": 2
}
