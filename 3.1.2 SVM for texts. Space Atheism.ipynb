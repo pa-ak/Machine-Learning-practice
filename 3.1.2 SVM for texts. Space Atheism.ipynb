{
 "cells": [
  {
   "cell_type": "code",
   "execution_count": 1,
   "metadata": {},
   "outputs": [],
   "source": [
    "import pandas as pd\n",
    "import numpy as np\n",
    "import sklearn\n",
    "from sklearn import datasets\n",
    "\n",
    "# Upload texts from Scikit-Learn database\n",
    "\n",
    "newsgroups = datasets.fetch_20newsgroups(subset='all', categories=['alt.atheism', 'sci.space'])\n",
    "\n",
    "# массив с текстами будет находиться в поле newsgroups.data, номер класса — в поле newsgroups.target"
   ]
  },
  {
   "cell_type": "code",
   "execution_count": 2,
   "metadata": {},
   "outputs": [],
   "source": [
    "y = newsgroups.target\n",
    "X = newsgroups.data"
   ]
  },
  {
   "cell_type": "code",
   "execution_count": 3,
   "metadata": {},
   "outputs": [],
   "source": [
    "from sklearn.feature_extraction.text import TfidfVectorizer\n",
    "\n",
    "vectorizer = TfidfVectorizer()\n",
    "\n",
    "# Преобразование обучающей выборки нужно делать с помощью функции fit_transform, тестовой — с помощью transform."
   ]
  },
  {
   "cell_type": "code",
   "execution_count": 4,
   "metadata": {},
   "outputs": [
    {
     "data": {
      "text/plain": [
       "<1786x28382 sparse matrix of type '<class 'numpy.float64'>'\n",
       "\twith 303138 stored elements in Compressed Sparse Row format>"
      ]
     },
     "execution_count": 4,
     "metadata": {},
     "output_type": "execute_result"
    }
   ],
   "source": [
    "# vectorize newsgroups.data \n",
    "\n",
    "# Error \"fit_transform() missing 1 required positional argument: 'raw_documents'\" resolves by putting () after TfidfVectorizer\n",
    "\n",
    "X_vect = vectorizer.fit_transform(X)\n",
    "\n",
    "X_vect"
   ]
  },
  {
   "cell_type": "code",
   "execution_count": 5,
   "metadata": {
    "scrolled": true
   },
   "outputs": [
    {
     "data": {
      "text/plain": [
       "GridSearchCV(cv=KFold(n_splits=5, random_state=241, shuffle=True),\n",
       "             error_score='raise-deprecating',\n",
       "             estimator=SVC(C=1.0, cache_size=200, class_weight=None, coef0=0.0,\n",
       "                           decision_function_shape='ovr', degree=3,\n",
       "                           gamma='auto_deprecated', kernel='linear',\n",
       "                           max_iter=-1, probability=False, random_state=241,\n",
       "                           shrinking=True, tol=0.001, verbose=False),\n",
       "             iid='warn', n_jobs=None,\n",
       "             param_grid={'C': array([1.e-05, 1.e-04, 1.e-03, 1.e-02, 1.e-01, 1.e+00, 1.e+01, 1.e+02,\n",
       "       1.e+03, 1.e+04, 1.e+05])},\n",
       "             pre_dispatch='2*n_jobs', refit=True, return_train_score=False,\n",
       "             scoring='accuracy', verbose=0)"
      ]
     },
     "execution_count": 5,
     "metadata": {},
     "output_type": "execute_result"
    }
   ],
   "source": [
    "# calibrate minimal parameter for SVM\n",
    "\n",
    "from sklearn.model_selection import KFold\n",
    "from sklearn.model_selection import GridSearchCV\n",
    "from sklearn.svm import SVC\n",
    "\n",
    "grid = {'C': np.power(10.0, np.arange(-5, 6))} # dict sets the grid of parameter for iterating\n",
    "cv = KFold(n_splits=5, shuffle=True, random_state=241) #cross-validation\n",
    "clf = SVC(kernel='linear', random_state=241) \n",
    "gs = GridSearchCV(clf, grid, scoring='accuracy', cv=cv)\n",
    "\n",
    "# train the model on the vectorized data\n",
    "\n",
    "gs.fit(X_vect, y) "
   ]
  },
  {
   "cell_type": "code",
   "execution_count": 6,
   "metadata": {
    "scrolled": true
   },
   "outputs": [
    {
     "name": "stdout",
     "output_type": "stream",
     "text": [
      "1.0\n"
     ]
    }
   ],
   "source": [
    "# Our best parameter for SVM\n",
    "\n",
    "best_C = gs.best_estimator_.C\n",
    "print(best_C)"
   ]
  },
  {
   "cell_type": "code",
   "execution_count": 7,
   "metadata": {},
   "outputs": [
    {
     "data": {
      "text/plain": [
       "SVC(C=1.0, cache_size=200, class_weight=None, coef0=0.0,\n",
       "    decision_function_shape='ovr', degree=3, gamma='auto_deprecated',\n",
       "    kernel='linear', max_iter=-1, probability=False, random_state=241,\n",
       "    shrinking=True, tol=0.001, verbose=False)"
      ]
     },
     "execution_count": 7,
     "metadata": {},
     "output_type": "execute_result"
    }
   ],
   "source": [
    "# train the model on the vectorized data with optimal C parameter\n",
    "\n",
    "clf1 = SVC(kernel='linear', random_state=241, C = best_C)\n",
    "\n",
    "clf1.fit(X_vect,y)"
   ]
  },
  {
   "cell_type": "code",
   "execution_count": 8,
   "metadata": {},
   "outputs": [],
   "source": [
    "# searching for the highest coefficients, i.e. the words with highest wieghts\n",
    "\n",
    "# Нужно получить наибольшие 10 весов из обученного классификатора (SVC), узнать их индексы.\n",
    "# Потом по этим индексам узнать с помощью vectorizer.get_feature_names() каким словам принадлежат эти индексы. \n",
    "# Проблема в там, что поле coef_ - разряженная матрица, к тому же неотсортированная по убыванию или возрастанию.\n",
    "# Необходимо привести её к обычному виду, а затем упорядочить по возрастанию или убыванию. \n",
    "# При этом упорядочить надо так, чтобы индексы не поменялись.\n",
    "\n",
    "# Сконвертируем результат в Pandas и потом уже из него выбирем все, что требуется\n",
    "\n",
    "coefs = clf1.coef_\n",
    "\n",
    "q = pd.DataFrame(coefs.toarray()).transpose()\n",
    "\n",
    "# Чтобы все правильно отсортировать со значениями по модулю нужно добавить функцию abs().\n",
    "\n",
    "top10=abs(q).sort_values([0], ascending=False).head(10) "
   ]
  },
  {
   "cell_type": "code",
   "execution_count": 9,
   "metadata": {},
   "outputs": [
    {
     "name": "stdout",
     "output_type": "stream",
     "text": [
      "['atheism', 'atheists', 'bible', 'god', 'keith', 'moon', 'religion', 'sci', 'sky', 'space']\n"
     ]
    }
   ],
   "source": [
    "# Which 10 words have the highest modulo weight\n",
    "\n",
    "indices=[]\n",
    "indices=top10.index\n",
    "\n",
    "words=[]\n",
    "for i in indices:\n",
    "    feature_mapping = vectorizer.get_feature_names()\n",
    "    words.append(feature_mapping[i])\n",
    "\n",
    "print(sorted(words))"
   ]
  },
  {
   "cell_type": "code",
   "execution_count": null,
   "metadata": {},
   "outputs": [],
   "source": []
  }
 ],
 "metadata": {
  "kernelspec": {
   "display_name": "Python 3",
   "language": "python",
   "name": "python3"
  },
  "language_info": {
   "codemirror_mode": {
    "name": "ipython",
    "version": 3
   },
   "file_extension": ".py",
   "mimetype": "text/x-python",
   "name": "python",
   "nbconvert_exporter": "python",
   "pygments_lexer": "ipython3",
   "version": "3.7.4"
  }
 },
 "nbformat": 4,
 "nbformat_minor": 2
}
